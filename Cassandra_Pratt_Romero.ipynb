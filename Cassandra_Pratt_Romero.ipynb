{
 "cells": [
  {
   "cell_type": "markdown",
   "id": "7e83e5de",
   "metadata": {},
   "source": [
    "# Bike Sharing Demand\n",
    "\n",
    "**Problem statement**\n",
    "\n",
    "A US bike-sharing provider **BoomBikes** wants to understand the factors affecting the demand for these shared bikes in the American market. The company wants to know:\n",
    "- Which variables are significant in predicting the demand for shared bikes.\n",
    "- How well those variables describe the bike demands\n",
    "\n",
    "Based on various meteorological surveys and people's styles, the service provider firm has gathered a large dataset on daily bike demands across the American market based on some factors. \n",
    "\n",
    "**Business goal**\n",
    "\n",
    "You are required to model the demand for shared bikes with the available independent variables. It will be used by the management to understand how exactly the demands vary with different features. They can accordingly manipulate the business strategy to meet the demand levels and meet the customer's expectations. Further, the model will be a good way for management to understand the demand dynamics of a new market."
   ]
  },
  {
   "cell_type": "markdown",
   "id": "16037150",
   "metadata": {},
   "source": [
    "For this analysis, let's first import the Python libraries that will be used and define useful functions."
   ]
  },
  {
   "cell_type": "code",
   "execution_count": 1,
   "id": "ed5144c8",
   "metadata": {},
   "outputs": [
    {
     "name": "stdout",
     "output_type": "stream",
     "text": [
      "Python version:  3.9.7 (default, Sep 16 2021, 16:59:28) [MSC v.1916 64 bit (AMD64)]\n",
      "Pandas version:  1.3.4\n",
      "Seaborn version:  0.11.2\n",
      "Matplotlib version:  3.4.3\n",
      "scipy version:  1.7.1\n",
      "SKLearn version:  0.24.2\n",
      "statsmodels version:  0.12.2\n"
     ]
    }
   ],
   "source": [
    "import sys\n",
    "print('Python version: ', sys.version)\n",
    "\n",
    "import pandas as pd              # Data manipulation tool\n",
    "print('Pandas version: ',pd.__version__)\n",
    "import seaborn as sns            # Data visualisation library\n",
    "print('Seaborn version: ',sns.__version__)\n",
    "import matplotlib\n",
    "import matplotlib.pyplot as plt  # Data visualisation libray\n",
    "print('Matplotlib version: ',matplotlib.__version__)\n",
    "%matplotlib inline\n",
    "import scipy\n",
    "from scipy import stats\n",
    "print('scipy version: ',scipy.__version__)\n",
    "\n",
    "# Datetime manipulation\n",
    "import datetime\n",
    "\n",
    "# Model training library Sci-kit Learn\n",
    "import sklearn\n",
    "from sklearn.model_selection import train_test_split\n",
    "from sklearn.preprocessing import MinMaxScaler\n",
    "from sklearn.linear_model import LinearRegression\n",
    "from sklearn.feature_selection import RFE\n",
    "from sklearn.metrics import r2_score\n",
    "from statsmodels.stats.outliers_influence import variance_inflation_factor\n",
    "print('SKLearn version: ',sklearn.__version__)\n",
    "\n",
    "# Model training library statsmodels\n",
    "import statsmodels.api as sm\n",
    "print('statsmodels version: ',sm.__version__)\n",
    "\n",
    "import warnings\n",
    "warnings.filterwarnings('ignore') # Ignore warning messages"
   ]
  },
  {
   "cell_type": "markdown",
   "id": "e1507a7b",
   "metadata": {},
   "source": [
    "Following function definition returns the month name given the month number."
   ]
  },
  {
   "cell_type": "code",
   "execution_count": 2,
   "id": "8309c0b7",
   "metadata": {},
   "outputs": [],
   "source": [
    "def get_month_number(month_num):\n",
    "    datetime_object = datetime.datetime.strptime(str(month_num), \"%m\")\n",
    "    month_name = datetime_object.strftime(\"%b\")\n",
    "    return month_name.lower()"
   ]
  },
  {
   "cell_type": "markdown",
   "id": "c22c6100",
   "metadata": {},
   "source": [
    "Following function definition creates a linear regression model with statsmodel library."
   ]
  },
  {
   "cell_type": "code",
   "execution_count": 3,
   "id": "c1cd9f14",
   "metadata": {},
   "outputs": [],
   "source": [
    "def sm_lr_model(X_train):\n",
    "    #Add constant\n",
    "    X_train_sm = sm.add_constant(X_train)\n",
    "\n",
    "    # create a fitted model\n",
    "    lm = sm.OLS(y_train,X_train_sm).fit()\n",
    "    return lm"
   ]
  },
  {
   "cell_type": "markdown",
   "id": "1ecab22c",
   "metadata": {},
   "source": [
    "Following function calculates the VIF for a given dataset X"
   ]
  },
  {
   "cell_type": "code",
   "execution_count": 4,
   "id": "ae63a311",
   "metadata": {},
   "outputs": [],
   "source": [
    "def get_vif(X):\n",
    "    vif = pd.DataFrame()\n",
    "    vif['Features'] = X.columns\n",
    "    vif['VIF'] = [variance_inflation_factor(X.values, i) for i in range(X.shape[1])]\n",
    "    vif['VIF'] = round(vif['VIF'],2)\n",
    "    vif = vif.sort_values(by='VIF', ascending = False)\n",
    "    return vif"
   ]
  },
  {
   "cell_type": "markdown",
   "id": "e60e3ccf",
   "metadata": {},
   "source": [
    "## Data cleaning and manipulation"
   ]
  },
  {
   "cell_type": "markdown",
   "id": "91616e18",
   "metadata": {},
   "source": [
    "Let's read the file \"day.csv\" which contains the data we need, and store it in a variable called \"df\" (for dataframe):"
   ]
  },
  {
   "cell_type": "code",
   "execution_count": 5,
   "id": "6eb514f0",
   "metadata": {},
   "outputs": [],
   "source": [
    "df = pd.read_csv('day.csv')"
   ]
  },
  {
   "cell_type": "markdown",
   "id": "7f8c000e",
   "metadata": {},
   "source": [
    "The function info() will let us see at first glance the composition of the data:"
   ]
  },
  {
   "cell_type": "code",
   "execution_count": 6,
   "id": "b2ccde9d",
   "metadata": {},
   "outputs": [
    {
     "name": "stdout",
     "output_type": "stream",
     "text": [
      "<class 'pandas.core.frame.DataFrame'>\n",
      "RangeIndex: 730 entries, 0 to 729\n",
      "Data columns (total 16 columns):\n",
      " #   Column      Non-Null Count  Dtype  \n",
      "---  ------      --------------  -----  \n",
      " 0   instant     730 non-null    int64  \n",
      " 1   dteday      730 non-null    object \n",
      " 2   season      730 non-null    int64  \n",
      " 3   yr          730 non-null    int64  \n",
      " 4   mnth        730 non-null    int64  \n",
      " 5   holiday     730 non-null    int64  \n",
      " 6   weekday     730 non-null    int64  \n",
      " 7   workingday  730 non-null    int64  \n",
      " 8   weathersit  730 non-null    int64  \n",
      " 9   temp        730 non-null    float64\n",
      " 10  atemp       730 non-null    float64\n",
      " 11  hum         730 non-null    float64\n",
      " 12  windspeed   730 non-null    float64\n",
      " 13  casual      730 non-null    int64  \n",
      " 14  registered  730 non-null    int64  \n",
      " 15  cnt         730 non-null    int64  \n",
      "dtypes: float64(4), int64(11), object(1)\n",
      "memory usage: 91.4+ KB\n"
     ]
    }
   ],
   "source": [
    "df.info()"
   ]
  },
  {
   "cell_type": "markdown",
   "id": "cd49b165",
   "metadata": {},
   "source": [
    "We have <b>16 columns</b> and <b>730 records</b>.\n",
    "\n",
    "Do we really need 16 columns for the analysis? Let's <b>review</b> what kind of data they hold and check <b>whether we can narrow down</b> the amount of columns we'll work with by:\n",
    "\n",
    "1. Filtering columns by missing values\n",
    "2. Filtering single-value columns\n",
    "3. Understanding each column (variable) description to check if it fits in analisys"
   ]
  },
  {
   "cell_type": "markdown",
   "id": "17433248",
   "metadata": {},
   "source": [
    "### Missing values by column\n",
    "Let's print the columns that hold null values."
   ]
  },
  {
   "cell_type": "code",
   "execution_count": 7,
   "id": "607cf3c4",
   "metadata": {},
   "outputs": [
    {
     "data": {
      "text/html": [
       "<div>\n",
       "<style scoped>\n",
       "    .dataframe tbody tr th:only-of-type {\n",
       "        vertical-align: middle;\n",
       "    }\n",
       "\n",
       "    .dataframe tbody tr th {\n",
       "        vertical-align: top;\n",
       "    }\n",
       "\n",
       "    .dataframe thead th {\n",
       "        text-align: right;\n",
       "    }\n",
       "</style>\n",
       "<table border=\"1\" class=\"dataframe\">\n",
       "  <thead>\n",
       "    <tr style=\"text-align: right;\">\n",
       "      <th></th>\n",
       "      <th>null_count</th>\n",
       "    </tr>\n",
       "  </thead>\n",
       "  <tbody>\n",
       "  </tbody>\n",
       "</table>\n",
       "</div>"
      ],
      "text/plain": [
       "Empty DataFrame\n",
       "Columns: [null_count]\n",
       "Index: []"
      ]
     },
     "execution_count": 7,
     "metadata": {},
     "output_type": "execute_result"
    }
   ],
   "source": [
    "# Get count of missing values, convert result to dataframe for aesthetic reasons\n",
    "df_null = df.isna().sum().to_frame() \n",
    "\n",
    "# Rename aggregated column to \"null_count\"\n",
    "df_null.columns = ['null_count']\n",
    "\n",
    "df_null[df_null['null_count']>0]"
   ]
  },
  {
   "cell_type": "markdown",
   "id": "c65f85fb",
   "metadata": {},
   "source": [
    "We can see that there are no columns with null values, **we won't drop any of them based on this criteria**."
   ]
  },
  {
   "cell_type": "markdown",
   "id": "3d7136b2",
   "metadata": {},
   "source": [
    "### Columns with a single value\n",
    "Columns with a single value do not add information for the results as the variance is zero, situation that can cause errors or unexpected results. We'll remove this columns."
   ]
  },
  {
   "cell_type": "code",
   "execution_count": 8,
   "id": "0a8b5d33",
   "metadata": {},
   "outputs": [
    {
     "name": "stdout",
     "output_type": "stream",
     "text": [
      "Columns with unique values:  0\n"
     ]
    }
   ],
   "source": [
    "# Use the nunique pandas function to count number of distinct elements in specified axis\n",
    "print('Columns with unique values: ',len((df.loc[:,df.apply(pd.Series.nunique) == 1]).columns))"
   ]
  },
  {
   "cell_type": "markdown",
   "id": "f074813e",
   "metadata": {},
   "source": [
    "There are **no columns with unique values**."
   ]
  },
  {
   "cell_type": "markdown",
   "id": "f07ab04b",
   "metadata": {},
   "source": [
    "### Column description\n",
    "For the columns we'll review their description to decide if data it's meaningful for our objective.\n",
    "\n",
    "According to data dictionary, following variables are not significant for our analysis, we will get rid of them:\n",
    "\n",
    "- instant: record index. Unique value with no significance.\n",
    "- dteday: date. We will use day of the week which is derived from dteday, and we already have year column.\n",
    "- casual: count of casual users. This value is not available in model daily use.\n",
    "- registered: count of registered users. This value is not available in model daily use."
   ]
  },
  {
   "cell_type": "code",
   "execution_count": 9,
   "id": "a5b9b408",
   "metadata": {},
   "outputs": [],
   "source": [
    "# Drop columns instant, dteday, casual, registered and atemp\n",
    "df.drop(['instant', 'dteday','casual','registered'], axis=1, inplace=True)"
   ]
  },
  {
   "cell_type": "markdown",
   "id": "c71b389b",
   "metadata": {},
   "source": [
    "Variables *temp* and *atemp* sound like they can be highly correlated. Let's take a look at their correlation within each other and within column *cnt*."
   ]
  },
  {
   "cell_type": "code",
   "execution_count": 10,
   "id": "ca6e1425",
   "metadata": {},
   "outputs": [
    {
     "data": {
      "text/html": [
       "<div>\n",
       "<style scoped>\n",
       "    .dataframe tbody tr th:only-of-type {\n",
       "        vertical-align: middle;\n",
       "    }\n",
       "\n",
       "    .dataframe tbody tr th {\n",
       "        vertical-align: top;\n",
       "    }\n",
       "\n",
       "    .dataframe thead th {\n",
       "        text-align: right;\n",
       "    }\n",
       "</style>\n",
       "<table border=\"1\" class=\"dataframe\">\n",
       "  <thead>\n",
       "    <tr style=\"text-align: right;\">\n",
       "      <th></th>\n",
       "      <th>temp</th>\n",
       "      <th>atemp</th>\n",
       "      <th>cnt</th>\n",
       "    </tr>\n",
       "  </thead>\n",
       "  <tbody>\n",
       "    <tr>\n",
       "      <th>temp</th>\n",
       "      <td>1.000000</td>\n",
       "      <td>0.991696</td>\n",
       "      <td>0.627044</td>\n",
       "    </tr>\n",
       "    <tr>\n",
       "      <th>atemp</th>\n",
       "      <td>0.991696</td>\n",
       "      <td>1.000000</td>\n",
       "      <td>0.630685</td>\n",
       "    </tr>\n",
       "    <tr>\n",
       "      <th>cnt</th>\n",
       "      <td>0.627044</td>\n",
       "      <td>0.630685</td>\n",
       "      <td>1.000000</td>\n",
       "    </tr>\n",
       "  </tbody>\n",
       "</table>\n",
       "</div>"
      ],
      "text/plain": [
       "           temp     atemp       cnt\n",
       "temp   1.000000  0.991696  0.627044\n",
       "atemp  0.991696  1.000000  0.630685\n",
       "cnt    0.627044  0.630685  1.000000"
      ]
     },
     "execution_count": 10,
     "metadata": {},
     "output_type": "execute_result"
    }
   ],
   "source": [
    "# Create a dataframe with both columns only\n",
    "temp_cols = df[['temp','atemp','cnt']]\n",
    "\n",
    "#Print variables correlation\n",
    "temp_cols.corr()"
   ]
  },
  {
   "cell_type": "markdown",
   "id": "9b11e97f",
   "metadata": {},
   "source": [
    "We can see that *temp* and *atemp* columns are highly and positively correlated. \"Feeling temperature\" is a measure of how hot it really feels for a human when the relative humidity is factored in, so the high correlation would be an indicator of it being similar to actual temperature (i.e. both columns have similar values).\n",
    "\n",
    "Also, both have almost same correlation with *cnt* variable. We will drop *atemp* column."
   ]
  },
  {
   "cell_type": "code",
   "execution_count": 11,
   "id": "22f7a5a6",
   "metadata": {},
   "outputs": [
    {
     "name": "stdout",
     "output_type": "stream",
     "text": [
      "df columns:  11\n"
     ]
    }
   ],
   "source": [
    "df.drop(['atemp'], axis=1, inplace=True)\n",
    "print('df columns: ', len(df.columns))"
   ]
  },
  {
   "cell_type": "code",
   "execution_count": 12,
   "id": "8e047bcc",
   "metadata": {},
   "outputs": [
    {
     "name": "stdout",
     "output_type": "stream",
     "text": [
      "<class 'pandas.core.frame.DataFrame'>\n",
      "RangeIndex: 730 entries, 0 to 729\n",
      "Data columns (total 11 columns):\n",
      " #   Column      Non-Null Count  Dtype  \n",
      "---  ------      --------------  -----  \n",
      " 0   season      730 non-null    int64  \n",
      " 1   yr          730 non-null    int64  \n",
      " 2   mnth        730 non-null    int64  \n",
      " 3   holiday     730 non-null    int64  \n",
      " 4   weekday     730 non-null    int64  \n",
      " 5   workingday  730 non-null    int64  \n",
      " 6   weathersit  730 non-null    int64  \n",
      " 7   temp        730 non-null    float64\n",
      " 8   hum         730 non-null    float64\n",
      " 9   windspeed   730 non-null    float64\n",
      " 10  cnt         730 non-null    int64  \n",
      "dtypes: float64(3), int64(8)\n",
      "memory usage: 62.9 KB\n"
     ]
    }
   ],
   "source": [
    "df.info()"
   ]
  },
  {
   "cell_type": "markdown",
   "id": "127a542d",
   "metadata": {},
   "source": [
    "After removing columns by description, **we have 11 columns**."
   ]
  },
  {
   "cell_type": "markdown",
   "id": "cde001cf",
   "metadata": {},
   "source": [
    "### Formatting columns\n",
    "Following steps are part of this section:\n",
    "1. Identifying categorical variables\n",
    "2. Transforming categorical variables (where needed)"
   ]
  },
  {
   "cell_type": "markdown",
   "id": "1d6fa48f",
   "metadata": {},
   "source": [
    "From data dictionary we have **identified following categorical variables**:\n",
    "\n",
    "- season : season (1:spring, 2:summer, 3:fall, 4:winter)\n",
    "- yr : year (0: 2018, 1:2019)\n",
    "- mnth : month ( 1 to 12)\n",
    "- holiday : weather day is a holiday or not\n",
    "- weekday : day of the week\n",
    "- workingday : if day is neither weekend nor holiday is 1, otherwise is 0.\n",
    "- weathersit:\n",
    "    - 1: Clear, Few clouds, Partly cloudy, Partly cloudy\n",
    "    - 2: Mist + Cloudy, Mist + Broken clouds, Mist + Few clouds, Mist\n",
    "    - 3: Light Snow, Light Rain + Thunderstorm + Scattered clouds, Light Rain + Scattered clouds\n",
    "    - 4: Heavy Rain + Ice Pallets + Thunderstorm + Mist, Snow + Fog\n",
    "    \n",
    "Let's check how their values look like."
   ]
  },
  {
   "cell_type": "code",
   "execution_count": 13,
   "id": "ccbc99b2",
   "metadata": {},
   "outputs": [
    {
     "name": "stdout",
     "output_type": "stream",
     "text": [
      "season unique values:  [1 2 3 4]\n",
      "yr unique values:  [0 1]\n",
      "mnth unique values:  [ 1  2  3  4  5  6  7  8  9 10 11 12]\n",
      "holiday unique values:  [0 1]\n",
      "weekday unique values:  [6 0 1 2 3 4 5]\n",
      "workingday unique values:  [0 1]\n",
      "weathersit unique values:  [2 1 3]\n"
     ]
    }
   ],
   "source": [
    "# Print columns unique values\n",
    "print('season unique values: ',df['season'].unique())\n",
    "print('yr unique values: ',df['yr'].unique())\n",
    "print('mnth unique values: ',df['mnth'].unique())\n",
    "print('holiday unique values: ',df['holiday'].unique())\n",
    "print('weekday unique values: ',df['weekday'].unique())\n",
    "print('workingday unique values: ',df['workingday'].unique())\n",
    "print('weathersit unique values: ',df['weathersit'].unique())"
   ]
  },
  {
   "cell_type": "markdown",
   "id": "feb198bb",
   "metadata": {},
   "source": [
    "Variables *yr*, *holiday*, and *workingday* already have binary values, we won't format them.\n",
    "\n",
    "*season*, *mnth*, *weekday*, and *weathersit* have values that correspond to a category. For example, season value number 1 is for spring. We need a column named spring with binary values (0 and 1) to identify this, so before the dummy variables creation we'll map these columns' values to categories.\n",
    "\n",
    "**Note for weekday**: week start in US is Sunday, so this value will be mapped to zero.\n",
    "\n",
    "**Note for weathersit**: dataset does not contain 4 values but category for it will be defined.\n",
    "\n",
    "**General note**: we will keep original numeric variables (\"...num\" colums) to easily plot them later."
   ]
  },
  {
   "cell_type": "code",
   "execution_count": 14,
   "id": "1a781e5f",
   "metadata": {},
   "outputs": [],
   "source": [
    "# Create a dictionary to map seasons\n",
    "seasons_dict = {1:'spring',2:'summer',3:'fall',4:'winter'}\n",
    "# Map seasons column values\n",
    "df['season'] = df['season'].map(seasons_dict)\n",
    "\n",
    "# Get month name for month numbers\n",
    "df['mnth_num'] = df['mnth']\n",
    "df['mnth'] = df['mnth'].apply(lambda x: get_month_number(x))\n",
    "\n",
    "# Create a dictionary to map weekdays\n",
    "weekdays_dict = {0: 'sun', 1: 'mon', 2: 'tue', 3: 'wed', 4: 'thu', 5: 'fri', 6: 'sat'}\n",
    "# Map weekday column values\n",
    "df['weekday_num'] = df['weekday']\n",
    "df['weekday'] = df['weekday'].map(weekdays_dict)\n",
    "\n",
    "# Create a dictionary to map weathersit\n",
    "weathersit_dict = {1:'clear_fewclouds',2:'mist_cloudy',3:'light_snowandrain',4:'heavyrain_icesnow'}\n",
    "# Map weathersit column values\n",
    "df['weathersit'] = df['weathersit'].map(weathersit_dict)"
   ]
  },
  {
   "cell_type": "markdown",
   "id": "5f3d5739",
   "metadata": {},
   "source": [
    "For all columns that contain values zero or one, let's assign the same data type *uint8*."
   ]
  },
  {
   "cell_type": "code",
   "execution_count": 15,
   "id": "382840fd",
   "metadata": {},
   "outputs": [],
   "source": [
    "# Set type to uint8\n",
    "df['yr'] = df['yr'].astype('uint8')\n",
    "df['holiday'] = df['holiday'].astype('uint8')\n",
    "df['workingday'] = df['workingday'].astype('uint8')"
   ]
  },
  {
   "cell_type": "markdown",
   "id": "41241343",
   "metadata": {},
   "source": [
    "Now we have correctly defined categories for all categorical variables to map later in dummy variables."
   ]
  },
  {
   "cell_type": "code",
   "execution_count": 16,
   "id": "8b6470a0",
   "metadata": {},
   "outputs": [
    {
     "data": {
      "text/html": [
       "<div>\n",
       "<style scoped>\n",
       "    .dataframe tbody tr th:only-of-type {\n",
       "        vertical-align: middle;\n",
       "    }\n",
       "\n",
       "    .dataframe tbody tr th {\n",
       "        vertical-align: top;\n",
       "    }\n",
       "\n",
       "    .dataframe thead th {\n",
       "        text-align: right;\n",
       "    }\n",
       "</style>\n",
       "<table border=\"1\" class=\"dataframe\">\n",
       "  <thead>\n",
       "    <tr style=\"text-align: right;\">\n",
       "      <th></th>\n",
       "      <th>season</th>\n",
       "      <th>yr</th>\n",
       "      <th>mnth</th>\n",
       "      <th>holiday</th>\n",
       "      <th>weekday</th>\n",
       "      <th>workingday</th>\n",
       "      <th>weathersit</th>\n",
       "      <th>temp</th>\n",
       "      <th>hum</th>\n",
       "      <th>windspeed</th>\n",
       "      <th>cnt</th>\n",
       "      <th>mnth_num</th>\n",
       "      <th>weekday_num</th>\n",
       "    </tr>\n",
       "  </thead>\n",
       "  <tbody>\n",
       "    <tr>\n",
       "      <th>0</th>\n",
       "      <td>spring</td>\n",
       "      <td>0</td>\n",
       "      <td>jan</td>\n",
       "      <td>0</td>\n",
       "      <td>sat</td>\n",
       "      <td>0</td>\n",
       "      <td>mist_cloudy</td>\n",
       "      <td>14.110847</td>\n",
       "      <td>80.5833</td>\n",
       "      <td>10.749882</td>\n",
       "      <td>985</td>\n",
       "      <td>1</td>\n",
       "      <td>6</td>\n",
       "    </tr>\n",
       "    <tr>\n",
       "      <th>1</th>\n",
       "      <td>spring</td>\n",
       "      <td>0</td>\n",
       "      <td>jan</td>\n",
       "      <td>0</td>\n",
       "      <td>sun</td>\n",
       "      <td>0</td>\n",
       "      <td>mist_cloudy</td>\n",
       "      <td>14.902598</td>\n",
       "      <td>69.6087</td>\n",
       "      <td>16.652113</td>\n",
       "      <td>801</td>\n",
       "      <td>1</td>\n",
       "      <td>0</td>\n",
       "    </tr>\n",
       "    <tr>\n",
       "      <th>2</th>\n",
       "      <td>spring</td>\n",
       "      <td>0</td>\n",
       "      <td>jan</td>\n",
       "      <td>0</td>\n",
       "      <td>mon</td>\n",
       "      <td>1</td>\n",
       "      <td>clear_fewclouds</td>\n",
       "      <td>8.050924</td>\n",
       "      <td>43.7273</td>\n",
       "      <td>16.636703</td>\n",
       "      <td>1349</td>\n",
       "      <td>1</td>\n",
       "      <td>1</td>\n",
       "    </tr>\n",
       "    <tr>\n",
       "      <th>3</th>\n",
       "      <td>spring</td>\n",
       "      <td>0</td>\n",
       "      <td>jan</td>\n",
       "      <td>0</td>\n",
       "      <td>tue</td>\n",
       "      <td>1</td>\n",
       "      <td>clear_fewclouds</td>\n",
       "      <td>8.200000</td>\n",
       "      <td>59.0435</td>\n",
       "      <td>10.739832</td>\n",
       "      <td>1562</td>\n",
       "      <td>1</td>\n",
       "      <td>2</td>\n",
       "    </tr>\n",
       "    <tr>\n",
       "      <th>4</th>\n",
       "      <td>spring</td>\n",
       "      <td>0</td>\n",
       "      <td>jan</td>\n",
       "      <td>0</td>\n",
       "      <td>wed</td>\n",
       "      <td>1</td>\n",
       "      <td>clear_fewclouds</td>\n",
       "      <td>9.305237</td>\n",
       "      <td>43.6957</td>\n",
       "      <td>12.522300</td>\n",
       "      <td>1600</td>\n",
       "      <td>1</td>\n",
       "      <td>3</td>\n",
       "    </tr>\n",
       "  </tbody>\n",
       "</table>\n",
       "</div>"
      ],
      "text/plain": [
       "   season  yr mnth  holiday weekday  workingday       weathersit       temp  \\\n",
       "0  spring   0  jan        0     sat           0      mist_cloudy  14.110847   \n",
       "1  spring   0  jan        0     sun           0      mist_cloudy  14.902598   \n",
       "2  spring   0  jan        0     mon           1  clear_fewclouds   8.050924   \n",
       "3  spring   0  jan        0     tue           1  clear_fewclouds   8.200000   \n",
       "4  spring   0  jan        0     wed           1  clear_fewclouds   9.305237   \n",
       "\n",
       "       hum  windspeed   cnt  mnth_num  weekday_num  \n",
       "0  80.5833  10.749882   985         1            6  \n",
       "1  69.6087  16.652113   801         1            0  \n",
       "2  43.7273  16.636703  1349         1            1  \n",
       "3  59.0435  10.739832  1562         1            2  \n",
       "4  43.6957  12.522300  1600         1            3  "
      ]
     },
     "execution_count": 16,
     "metadata": {},
     "output_type": "execute_result"
    }
   ],
   "source": [
    "df.head()"
   ]
  },
  {
   "cell_type": "markdown",
   "id": "30f387cd",
   "metadata": {},
   "source": [
    "## Data analysis"
   ]
  },
  {
   "cell_type": "markdown",
   "id": "b788b2c1",
   "metadata": {},
   "source": [
    "### Handling outliers\n",
    "\n",
    "We'll create boxplots to check outliers better and determine if we should remove them based on their percentage."
   ]
  },
  {
   "cell_type": "code",
   "execution_count": 17,
   "id": "184e0dc4",
   "metadata": {},
   "outputs": [
    {
     "data": {
      "image/png": "[encoded data removed]",
      "text/plain": [
       "<Figure size 1296x360 with 3 Axes>"
      ]
     },
     "metadata": {
      "needs_background": "light"
     },
     "output_type": "display_data"
    }
   ],
   "source": [
    "# Dataframe with quantitative variables only\n",
    "df_quant = df[['temp','hum','windspeed']]\n",
    "\n",
    "# To show two graphs\n",
    "fig, ax = plt.subplots(1, 3, figsize=(18, 5))\n",
    "\n",
    "# Title for plots\n",
    "fig.suptitle('Quantitative variables outliers detection')\n",
    "\n",
    "# Create histograms\n",
    "sns.boxplot(ax=ax[0], data=df_quant, x='temp')\n",
    "sns.boxplot(ax=ax[1], data=df_quant, x='hum')\n",
    "sns.boxplot(ax=ax[2], data=df_quant, x='windspeed')\n",
    "ax[0].set(xlabel='temp', ylabel='Records count')\n",
    "ax[1].set(xlabel='hum', ylabel='Records count')\n",
    "ax[2].set(xlabel='windspeed', ylabel='Records count')\n",
    "plt.show()"
   ]
  },
  {
   "cell_type": "markdown",
   "id": "e51576f9",
   "metadata": {},
   "source": [
    "**For outliers in quantitative variables**, we see the variables distributions having a sort of \"normal\" distributions with few outliers at the tails:\n",
    "- Right tail for hum\n",
    "- Left tail for windspeed"
   ]
  },
  {
   "cell_type": "code",
   "execution_count": 18,
   "id": "25cff276",
   "metadata": {},
   "outputs": [
    {
     "name": "stdout",
     "output_type": "stream",
     "text": [
      "Values greater than upper fence for hum:  2\n",
      "Percentage of total:  0.27 %\n",
      "Values greater than upper fence for windspeed:  13\n",
      "Percentage of total:  1.78 %\n"
     ]
    }
   ],
   "source": [
    "# Computing IQR for hum\n",
    "q1 = df_quant['hum'].quantile(0.25)\n",
    "q3 = df_quant['hum'].quantile(0.75)\n",
    "iqr = q3 - q1\n",
    "\n",
    "# Computing lower fence\n",
    "lower_fence = q1 - 1.5 * iqr\n",
    "\n",
    "# Get values greater than upper fence for hum\n",
    "gr_upper = df_quant[df_quant.hum<lower_fence].shape[0]\n",
    "print('Values greater than upper fence for hum: ', gr_upper)\n",
    "print('Percentage of total: ', round(gr_upper/df.shape[0]*100,2), '%')\n",
    "\n",
    "# Computing IQR for windspeed\n",
    "q1 = df_quant['windspeed'].quantile(0.25)\n",
    "q3 = df_quant['windspeed'].quantile(0.75)\n",
    "iqr = q3 - q1\n",
    "\n",
    "# Computing upper fence\n",
    "upper_fence = q3 + 1.5 * iqr\n",
    "\n",
    "# Get values greater than upper fence for windspeed\n",
    "gr_upper = df_quant[df_quant.windspeed>upper_fence].shape[0]\n",
    "print('Values greater than upper fence for windspeed: ', gr_upper)\n",
    "print('Percentage of total: ', round(gr_upper/df.shape[0]*100,2), '%')"
   ]
  },
  {
   "cell_type": "markdown",
   "id": "c8769b38",
   "metadata": {},
   "source": [
    "We have less than 0.5% of outliers for *hum* and less than 2% for *windspeed*, which translates to ~2% of outliers.\n",
    "\n",
    "**We won't drop outliers** as the amount is small and can be explained with weather behaviour not being 100% predictable."
   ]
  },
  {
   "cell_type": "markdown",
   "id": "0dc2fc1e",
   "metadata": {},
   "source": [
    "### Categorical variables analysis\n",
    "\n",
    "To review what we can infer about categorical variables effect on the dependent variable *cnt*, we will plot their total *cnt* (sum) by categories."
   ]
  },
  {
   "cell_type": "code",
   "execution_count": 19,
   "id": "d120d035",
   "metadata": {
    "scrolled": false
   },
   "outputs": [
    {
     "data": {
      "image/png": "[encoded data removed]",
      "text/plain": [
       "<Figure size 1152x504 with 7 Axes>"
      ]
     },
     "metadata": {},
     "output_type": "display_data"
    }
   ],
   "source": [
    "# Select quantitative variables\n",
    "cat_vars = df[['yr','season','mnth_num','weekday_num','holiday','workingday','weathersit','cnt']]\n",
    "cat_vars['yr'] = cat_vars['yr'].map({0:2018,1:2019})\n",
    "cat_vars['holiday'] = cat_vars['holiday'].map({0:'not holiday',1:'holiday'})\n",
    "cat_vars['workingday'] = cat_vars['workingday'].map({0:'not working',1:'workingday'})\n",
    "\n",
    "# To show multiple graphs\n",
    "fig, ax = plt.subplots(2, 4, figsize=(16, 7))\n",
    "\n",
    "# Title for plots\n",
    "fig.suptitle('Categorical variables percentage of bike rentals by category')\n",
    "\n",
    "# Create histograms\n",
    "r = 0\n",
    "c = 0\n",
    "for col in cat_vars.columns:\n",
    "    if col != 'cnt':\n",
    "        agg_tbl = pd.pivot_table(cat_vars, index=col, values='cnt', aggfunc='sum')\n",
    "        ax[r,c].pie(agg_tbl['cnt'], labels = agg_tbl.index, autopct='%.0f%%')\n",
    "        if r < 2 and c < 3:\n",
    "            c += 1\n",
    "        elif r < 2:\n",
    "            r += 1\n",
    "            c = 0\n",
    "# Handle empty graph to show\n",
    "fig.delaxes(ax[1,3])\n",
    "plt.show()"
   ]
  },
  {
   "cell_type": "markdown",
   "id": "f4513bce",
   "metadata": {},
   "source": [
    "From above pie charts we can see the percentage of total rental bikes (sum of *cnt*) by category for categorical columns. The **insights** we obtain are:\n",
    "- Compared to 2018, **in 2019 bike rentals increased by 61.3%** (a considerable amount!).\n",
    "- **Bike rentals are done the most in fall and summer**, and we can confirm that looking at the percentages by month (from 6 to 10).\n",
    "- Percentage of bike rentals is similar for all days of the week.\n",
    "- Almost all **bike rentals** (98%) were **done in days that did not correspond to a holiday**.\n",
    "- A considerable percentage of **bike rentals** (70%) were **done in working days**.\n",
    "- A considerable percentage of **bike rentals** (69%) were **done in clear with few clouds or partly cloudy days**.\n",
    "    - There are no bike rentals on days with heavy rain, Ice Pallets, Thunderstorm and Mist, Snow and Fog. Company might not work on these days."
   ]
  },
  {
   "cell_type": "markdown",
   "id": "f68f5351",
   "metadata": {},
   "source": [
    "But looking into percentages is not enough, we want to review the categories distribution. For this we'll create boxplots to obtain more insights, confirm or deny the above ones."
   ]
  },
  {
   "cell_type": "code",
   "execution_count": 20,
   "id": "3e301129",
   "metadata": {},
   "outputs": [
    {
     "data": {
      "image/png": "[encoded data removed]",
      "text/plain": [
       "<Figure size 1152x864 with 7 Axes>"
      ]
     },
     "metadata": {
      "needs_background": "light"
     },
     "output_type": "display_data"
    }
   ],
   "source": [
    "# To show multiple graphs\n",
    "fig, ax = plt.subplots(3, 3, figsize=(16, 12))\n",
    "\n",
    "# Title for plots\n",
    "fig.suptitle('Categorical variables distribution by category')\n",
    "\n",
    "# Create histograms\n",
    "r = 0\n",
    "c = 0\n",
    "for col in cat_vars.columns:\n",
    "    if col != 'cnt':\n",
    "        sns.boxplot(ax=ax[r,c], x = col, y = 'cnt', data = cat_vars)\n",
    "        if r < 3 and c < 2:\n",
    "            c += 1\n",
    "        elif r < 2:\n",
    "            r += 1\n",
    "            c = 0\n",
    "# Handle empty graph to show\n",
    "fig.delaxes(ax[2,1])\n",
    "fig.delaxes(ax[2,2])\n",
    "plt.show()"
   ]
  },
  {
   "cell_type": "markdown",
   "id": "e2194505",
   "metadata": {},
   "source": [
    "From above box plots we can see the distribution of bike rentals *cnt* by category. The **insights** we obtain are:\n",
    "- Compared to 2018, **in 2019 bike rentals increased**. Median and around 50% of the data is clearly above the values for 2018, also we can detect low values as outliers (which translates to small amounts of bikes rental being rare).\n",
    "- **Bike rentals are done the most in fall and summer**, and we can confirm that looking at the plots by month (from 6 to 10). \n",
    "    - Big amounts of bike rentals are rare during the spring (marked with the outliers).\n",
    "- Distribution of bike rentals is similar for all days of the week.\n",
    "- Range of bike rentals done in **days that did not correspond to a holiday** is bigger than in holidays, also with a higher median.\n",
    "- Although we have a considerable percentage of bike rentals in working days, the **distribution in not working and in working days is similar** (both in median and range).\n",
    "- A considerable amount of bike rentals were done **in clear with few clouds or partly cloudy days**. The difference in median is clear with the other two categories.\n",
    "    - \"Light Snow, Light Rain + Thunderstorm + Scattered clouds, Light Rain + Scattered clouds\" days have significant less bikes rentals than the other two categories."
   ]
  },
  {
   "cell_type": "markdown",
   "id": "76ca55f9",
   "metadata": {},
   "source": [
    "We observe that **following independent variables have a bigger effect on the bike rentals**, as the distributions by category differ the most:\n",
    "- weathersit\n",
    "- yr\n",
    "- season\n",
    "- mnth"
   ]
  },
  {
   "cell_type": "markdown",
   "id": "97d431f2",
   "metadata": {},
   "source": [
    "### Numerical variables analysis\n",
    "Let's create a pair plot to compare continuous quantitative variables behaviour and determine where we can find strong relationships (we already now there are some outliers).\n",
    "\n",
    "Continuous quantitative variables are:\n",
    "- temp\n",
    "- hum\n",
    "- windspeed\n",
    "\n",
    "We will also include the target variable **cnt** to **check** from now **if there is any linear relationship we can use to justify using Linear Regression** to solve the business problem."
   ]
  },
  {
   "cell_type": "code",
   "execution_count": 21,
   "id": "74737556",
   "metadata": {},
   "outputs": [],
   "source": [
    "# Dataframe with quantitative variables only\n",
    "df_quant = df[['temp','hum','windspeed','cnt']]"
   ]
  },
  {
   "cell_type": "markdown",
   "id": "17683c52",
   "metadata": {},
   "source": [
    "From below pairplot we see that for almost all continuous quantitative variables there is no clear trend (distribution), except for the **relationship between cnt and temp**. This relationship is clearly positive, and enough to <font color='light-blue'>**justify the use of Linear Regression**</font>."
   ]
  },
  {
   "cell_type": "code",
   "execution_count": 22,
   "id": "8dc20105",
   "metadata": {},
   "outputs": [
    {
     "data": {
      "image/png": "[encoded data removed]",
      "text/plain": [
       "<Figure size 720x720 with 20 Axes>"
      ]
     },
     "metadata": {
      "needs_background": "light"
     },
     "output_type": "display_data"
    }
   ],
   "source": [
    "# Create pairplot\n",
    "sns.pairplot(data=df_quant)\n",
    "plt.show()"
   ]
  },
  {
   "cell_type": "markdown",
   "id": "34e20ffc",
   "metadata": {},
   "source": [
    "Also, from below heatmap we can see **the quantitative/numerical variables are not highly correlated between them**, might not be necessary to drop them in review of multicollinearity (coming in next sections).\n",
    "\n",
    "- We can also see here that ***temp* and *cnt* have a high positive correlation** (0.63) compared to the others, and is telling us that the higher the temperature the more bikes are rented. It is expected to have *temp* in the final model to predict bikes rental.\n",
    "- ***cnt* has a negative correlation with *hum* and *windspeed*** (-0.099 and -0.24), which would translate to the higher humidity and windspeed the more people don't renting bikes."
   ]
  },
  {
   "cell_type": "code",
   "execution_count": 23,
   "id": "726bd642",
   "metadata": {},
   "outputs": [
    {
     "data": {
      "image/png": "[encoded data removed]",
      "text/plain": [
       "<Figure size 360x288 with 2 Axes>"
      ]
     },
     "metadata": {
      "needs_background": "light"
     },
     "output_type": "display_data"
    }
   ],
   "source": [
    "# Show numerical variables correlation\n",
    "plt.figure(figsize = (5, 4))\n",
    "sns.heatmap(df_quant.corr(), annot = True, cmap='Greens')\n",
    "plt.show()"
   ]
  },
  {
   "cell_type": "markdown",
   "id": "61b2322e",
   "metadata": {},
   "source": [
    "## Data preparation for modeling\n",
    "Now we are ready to prepare the data for modeling. We'll drop useless columns and create dummy variables.\n",
    "\n",
    "Let's first drop useless columns (columns we kept for categorical analysis)."
   ]
  },
  {
   "cell_type": "code",
   "execution_count": 24,
   "id": "b7f26b9d",
   "metadata": {},
   "outputs": [],
   "source": [
    "# Drop useless columns for modeling\n",
    "df.drop(['mnth_num','weekday_num'], axis=1, inplace=True)"
   ]
  },
  {
   "cell_type": "markdown",
   "id": "80e0d139",
   "metadata": {},
   "source": [
    "Now we will create dummy variables for *season*, *mnth*, *weekday*, and *weathersit* columns."
   ]
  },
  {
   "cell_type": "code",
   "execution_count": 25,
   "id": "57420a9e",
   "metadata": {},
   "outputs": [],
   "source": [
    "# Create dummy variables\n",
    "dummies = pd.get_dummies(df[['season','mnth','weekday','weathersit']], drop_first=True)\n",
    "\n",
    "# Concat dummy variables to original dataframe df\n",
    "df = pd.concat([df, dummies], axis = 1)\n",
    "\n",
    "# Drop original source columns\n",
    "df.drop(['season','mnth','weekday','weathersit'], axis=1, inplace=True)"
   ]
  },
  {
   "cell_type": "markdown",
   "id": "026adf7b",
   "metadata": {},
   "source": [
    "Let's check the information of our dataframe df with recently added dummy columns."
   ]
  },
  {
   "cell_type": "code",
   "execution_count": 26,
   "id": "2729b9df",
   "metadata": {
    "scrolled": true
   },
   "outputs": [
    {
     "name": "stdout",
     "output_type": "stream",
     "text": [
      "<class 'pandas.core.frame.DataFrame'>\n",
      "RangeIndex: 730 entries, 0 to 729\n",
      "Data columns (total 29 columns):\n",
      " #   Column                        Non-Null Count  Dtype  \n",
      "---  ------                        --------------  -----  \n",
      " 0   yr                            730 non-null    uint8  \n",
      " 1   holiday                       730 non-null    uint8  \n",
      " 2   workingday                    730 non-null    uint8  \n",
      " 3   temp                          730 non-null    float64\n",
      " 4   hum                           730 non-null    float64\n",
      " 5   windspeed                     730 non-null    float64\n",
      " 6   cnt                           730 non-null    int64  \n",
      " 7   season_spring                 730 non-null    uint8  \n",
      " 8   season_summer                 730 non-null    uint8  \n",
      " 9   season_winter                 730 non-null    uint8  \n",
      " 10  mnth_aug                      730 non-null    uint8  \n",
      " 11  mnth_dec                      730 non-null    uint8  \n",
      " 12  mnth_feb                      730 non-null    uint8  \n",
      " 13  mnth_jan                      730 non-null    uint8  \n",
      " 14  mnth_jul                      730 non-null    uint8  \n",
      " 15  mnth_jun                      730 non-null    uint8  \n",
      " 16  mnth_mar                      730 non-null    uint8  \n",
      " 17  mnth_may                      730 non-null    uint8  \n",
      " 18  mnth_nov                      730 non-null    uint8  \n",
      " 19  mnth_oct                      730 non-null    uint8  \n",
      " 20  mnth_sep                      730 non-null    uint8  \n",
      " 21  weekday_mon                   730 non-null    uint8  \n",
      " 22  weekday_sat                   730 non-null    uint8  \n",
      " 23  weekday_sun                   730 non-null    uint8  \n",
      " 24  weekday_thu                   730 non-null    uint8  \n",
      " 25  weekday_tue                   730 non-null    uint8  \n",
      " 26  weekday_wed                   730 non-null    uint8  \n",
      " 27  weathersit_light_snowandrain  730 non-null    uint8  \n",
      " 28  weathersit_mist_cloudy        730 non-null    uint8  \n",
      "dtypes: float64(3), int64(1), uint8(25)\n",
      "memory usage: 40.8 KB\n"
     ]
    }
   ],
   "source": [
    "df.info()"
   ]
  },
  {
   "cell_type": "markdown",
   "id": "15e1a10f",
   "metadata": {},
   "source": [
    "After the creation of dummies **we have 29 columns**. Let's take a look at first rows."
   ]
  },
  {
   "cell_type": "code",
   "execution_count": 27,
   "id": "b5df2848",
   "metadata": {},
   "outputs": [
    {
     "data": {
      "text/html": [
       "<div>\n",
       "<style scoped>\n",
       "    .dataframe tbody tr th:only-of-type {\n",
       "        vertical-align: middle;\n",
       "    }\n",
       "\n",
       "    .dataframe tbody tr th {\n",
       "        vertical-align: top;\n",
       "    }\n",
       "\n",
       "    .dataframe thead th {\n",
       "        text-align: right;\n",
       "    }\n",
       "</style>\n",
       "<table border=\"1\" class=\"dataframe\">\n",
       "  <thead>\n",
       "    <tr style=\"text-align: right;\">\n",
       "      <th></th>\n",
       "      <th>yr</th>\n",
       "      <th>holiday</th>\n",
       "      <th>workingday</th>\n",
       "      <th>temp</th>\n",
       "      <th>hum</th>\n",
       "      <th>windspeed</th>\n",
       "      <th>cnt</th>\n",
       "      <th>season_spring</th>\n",
       "      <th>season_summer</th>\n",
       "      <th>season_winter</th>\n",
       "      <th>...</th>\n",
       "      <th>mnth_oct</th>\n",
       "      <th>mnth_sep</th>\n",
       "      <th>weekday_mon</th>\n",
       "      <th>weekday_sat</th>\n",
       "      <th>weekday_sun</th>\n",
       "      <th>weekday_thu</th>\n",
       "      <th>weekday_tue</th>\n",
       "      <th>weekday_wed</th>\n",
       "      <th>weathersit_light_snowandrain</th>\n",
       "      <th>weathersit_mist_cloudy</th>\n",
       "    </tr>\n",
       "  </thead>\n",
       "  <tbody>\n",
       "    <tr>\n",
       "      <th>0</th>\n",
       "      <td>0</td>\n",
       "      <td>0</td>\n",
       "      <td>0</td>\n",
       "      <td>14.110847</td>\n",
       "      <td>80.5833</td>\n",
       "      <td>10.749882</td>\n",
       "      <td>985</td>\n",
       "      <td>1</td>\n",
       "      <td>0</td>\n",
       "      <td>0</td>\n",
       "      <td>...</td>\n",
       "      <td>0</td>\n",
       "      <td>0</td>\n",
       "      <td>0</td>\n",
       "      <td>1</td>\n",
       "      <td>0</td>\n",
       "      <td>0</td>\n",
       "      <td>0</td>\n",
       "      <td>0</td>\n",
       "      <td>0</td>\n",
       "      <td>1</td>\n",
       "    </tr>\n",
       "    <tr>\n",
       "      <th>1</th>\n",
       "      <td>0</td>\n",
       "      <td>0</td>\n",
       "      <td>0</td>\n",
       "      <td>14.902598</td>\n",
       "      <td>69.6087</td>\n",
       "      <td>16.652113</td>\n",
       "      <td>801</td>\n",
       "      <td>1</td>\n",
       "      <td>0</td>\n",
       "      <td>0</td>\n",
       "      <td>...</td>\n",
       "      <td>0</td>\n",
       "      <td>0</td>\n",
       "      <td>0</td>\n",
       "      <td>0</td>\n",
       "      <td>1</td>\n",
       "      <td>0</td>\n",
       "      <td>0</td>\n",
       "      <td>0</td>\n",
       "      <td>0</td>\n",
       "      <td>1</td>\n",
       "    </tr>\n",
       "    <tr>\n",
       "      <th>2</th>\n",
       "      <td>0</td>\n",
       "      <td>0</td>\n",
       "      <td>1</td>\n",
       "      <td>8.050924</td>\n",
       "      <td>43.7273</td>\n",
       "      <td>16.636703</td>\n",
       "      <td>1349</td>\n",
       "      <td>1</td>\n",
       "      <td>0</td>\n",
       "      <td>0</td>\n",
       "      <td>...</td>\n",
       "      <td>0</td>\n",
       "      <td>0</td>\n",
       "      <td>1</td>\n",
       "      <td>0</td>\n",
       "      <td>0</td>\n",
       "      <td>0</td>\n",
       "      <td>0</td>\n",
       "      <td>0</td>\n",
       "      <td>0</td>\n",
       "      <td>0</td>\n",
       "    </tr>\n",
       "    <tr>\n",
       "      <th>3</th>\n",
       "      <td>0</td>\n",
       "      <td>0</td>\n",
       "      <td>1</td>\n",
       "      <td>8.200000</td>\n",
       "      <td>59.0435</td>\n",
       "      <td>10.739832</td>\n",
       "      <td>1562</td>\n",
       "      <td>1</td>\n",
       "      <td>0</td>\n",
       "      <td>0</td>\n",
       "      <td>...</td>\n",
       "      <td>0</td>\n",
       "      <td>0</td>\n",
       "      <td>0</td>\n",
       "      <td>0</td>\n",
       "      <td>0</td>\n",
       "      <td>0</td>\n",
       "      <td>1</td>\n",
       "      <td>0</td>\n",
       "      <td>0</td>\n",
       "      <td>0</td>\n",
       "    </tr>\n",
       "    <tr>\n",
       "      <th>4</th>\n",
       "      <td>0</td>\n",
       "      <td>0</td>\n",
       "      <td>1</td>\n",
       "      <td>9.305237</td>\n",
       "      <td>43.6957</td>\n",
       "      <td>12.522300</td>\n",
       "      <td>1600</td>\n",
       "      <td>1</td>\n",
       "      <td>0</td>\n",
       "      <td>0</td>\n",
       "      <td>...</td>\n",
       "      <td>0</td>\n",
       "      <td>0</td>\n",
       "      <td>0</td>\n",
       "      <td>0</td>\n",
       "      <td>0</td>\n",
       "      <td>0</td>\n",
       "      <td>0</td>\n",
       "      <td>1</td>\n",
       "      <td>0</td>\n",
       "      <td>0</td>\n",
       "    </tr>\n",
       "  </tbody>\n",
       "</table>\n",
       "<p>5 rows × 29 columns</p>\n",
       "</div>"
      ],
      "text/plain": [
       "   yr  holiday  workingday       temp      hum  windspeed   cnt  \\\n",
       "0   0        0           0  14.110847  80.5833  10.749882   985   \n",
       "1   0        0           0  14.902598  69.6087  16.652113   801   \n",
       "2   0        0           1   8.050924  43.7273  16.636703  1349   \n",
       "3   0        0           1   8.200000  59.0435  10.739832  1562   \n",
       "4   0        0           1   9.305237  43.6957  12.522300  1600   \n",
       "\n",
       "   season_spring  season_summer  season_winter  ...  mnth_oct  mnth_sep  \\\n",
       "0              1              0              0  ...         0         0   \n",
       "1              1              0              0  ...         0         0   \n",
       "2              1              0              0  ...         0         0   \n",
       "3              1              0              0  ...         0         0   \n",
       "4              1              0              0  ...         0         0   \n",
       "\n",
       "   weekday_mon  weekday_sat  weekday_sun  weekday_thu  weekday_tue  \\\n",
       "0            0            1            0            0            0   \n",
       "1            0            0            1            0            0   \n",
       "2            1            0            0            0            0   \n",
       "3            0            0            0            0            1   \n",
       "4            0            0            0            0            0   \n",
       "\n",
       "   weekday_wed  weathersit_light_snowandrain  weathersit_mist_cloudy  \n",
       "0            0                             0                       1  \n",
       "1            0                             0                       1  \n",
       "2            0                             0                       0  \n",
       "3            0                             0                       0  \n",
       "4            1                             0                       0  \n",
       "\n",
       "[5 rows x 29 columns]"
      ]
     },
     "execution_count": 27,
     "metadata": {},
     "output_type": "execute_result"
    }
   ],
   "source": [
    "df.head()"
   ]
  },
  {
   "cell_type": "markdown",
   "id": "135149c7",
   "metadata": {},
   "source": [
    "### Target variable simplification\n",
    "To create the model we'll need to scale numerical variables, and all independent variables will have values between one and zero. The equation to predict *cnt* will have large coefficients as *cnt* values are big compared to the other variables.\n",
    "\n",
    "What we can do **to simplify final analysis is divide *cnt* by 1000 so we have a user-friendly equation** (and we'll know that the actual predicted value will need to be multiplied by 1000)."
   ]
  },
  {
   "cell_type": "code",
   "execution_count": 28,
   "id": "a51be4a5",
   "metadata": {},
   "outputs": [
    {
     "data": {
      "text/html": [
       "<div>\n",
       "<style scoped>\n",
       "    .dataframe tbody tr th:only-of-type {\n",
       "        vertical-align: middle;\n",
       "    }\n",
       "\n",
       "    .dataframe tbody tr th {\n",
       "        vertical-align: top;\n",
       "    }\n",
       "\n",
       "    .dataframe thead th {\n",
       "        text-align: right;\n",
       "    }\n",
       "</style>\n",
       "<table border=\"1\" class=\"dataframe\">\n",
       "  <thead>\n",
       "    <tr style=\"text-align: right;\">\n",
       "      <th></th>\n",
       "      <th>yr</th>\n",
       "      <th>holiday</th>\n",
       "      <th>workingday</th>\n",
       "      <th>temp</th>\n",
       "      <th>hum</th>\n",
       "      <th>windspeed</th>\n",
       "      <th>cnt</th>\n",
       "      <th>season_spring</th>\n",
       "      <th>season_summer</th>\n",
       "      <th>season_winter</th>\n",
       "      <th>...</th>\n",
       "      <th>mnth_oct</th>\n",
       "      <th>mnth_sep</th>\n",
       "      <th>weekday_mon</th>\n",
       "      <th>weekday_sat</th>\n",
       "      <th>weekday_sun</th>\n",
       "      <th>weekday_thu</th>\n",
       "      <th>weekday_tue</th>\n",
       "      <th>weekday_wed</th>\n",
       "      <th>weathersit_light_snowandrain</th>\n",
       "      <th>weathersit_mist_cloudy</th>\n",
       "    </tr>\n",
       "  </thead>\n",
       "  <tbody>\n",
       "    <tr>\n",
       "      <th>0</th>\n",
       "      <td>0</td>\n",
       "      <td>0</td>\n",
       "      <td>0</td>\n",
       "      <td>14.110847</td>\n",
       "      <td>80.5833</td>\n",
       "      <td>10.749882</td>\n",
       "      <td>0.985</td>\n",
       "      <td>1</td>\n",
       "      <td>0</td>\n",
       "      <td>0</td>\n",
       "      <td>...</td>\n",
       "      <td>0</td>\n",
       "      <td>0</td>\n",
       "      <td>0</td>\n",
       "      <td>1</td>\n",
       "      <td>0</td>\n",
       "      <td>0</td>\n",
       "      <td>0</td>\n",
       "      <td>0</td>\n",
       "      <td>0</td>\n",
       "      <td>1</td>\n",
       "    </tr>\n",
       "    <tr>\n",
       "      <th>1</th>\n",
       "      <td>0</td>\n",
       "      <td>0</td>\n",
       "      <td>0</td>\n",
       "      <td>14.902598</td>\n",
       "      <td>69.6087</td>\n",
       "      <td>16.652113</td>\n",
       "      <td>0.801</td>\n",
       "      <td>1</td>\n",
       "      <td>0</td>\n",
       "      <td>0</td>\n",
       "      <td>...</td>\n",
       "      <td>0</td>\n",
       "      <td>0</td>\n",
       "      <td>0</td>\n",
       "      <td>0</td>\n",
       "      <td>1</td>\n",
       "      <td>0</td>\n",
       "      <td>0</td>\n",
       "      <td>0</td>\n",
       "      <td>0</td>\n",
       "      <td>1</td>\n",
       "    </tr>\n",
       "    <tr>\n",
       "      <th>2</th>\n",
       "      <td>0</td>\n",
       "      <td>0</td>\n",
       "      <td>1</td>\n",
       "      <td>8.050924</td>\n",
       "      <td>43.7273</td>\n",
       "      <td>16.636703</td>\n",
       "      <td>1.349</td>\n",
       "      <td>1</td>\n",
       "      <td>0</td>\n",
       "      <td>0</td>\n",
       "      <td>...</td>\n",
       "      <td>0</td>\n",
       "      <td>0</td>\n",
       "      <td>1</td>\n",
       "      <td>0</td>\n",
       "      <td>0</td>\n",
       "      <td>0</td>\n",
       "      <td>0</td>\n",
       "      <td>0</td>\n",
       "      <td>0</td>\n",
       "      <td>0</td>\n",
       "    </tr>\n",
       "    <tr>\n",
       "      <th>3</th>\n",
       "      <td>0</td>\n",
       "      <td>0</td>\n",
       "      <td>1</td>\n",
       "      <td>8.200000</td>\n",
       "      <td>59.0435</td>\n",
       "      <td>10.739832</td>\n",
       "      <td>1.562</td>\n",
       "      <td>1</td>\n",
       "      <td>0</td>\n",
       "      <td>0</td>\n",
       "      <td>...</td>\n",
       "      <td>0</td>\n",
       "      <td>0</td>\n",
       "      <td>0</td>\n",
       "      <td>0</td>\n",
       "      <td>0</td>\n",
       "      <td>0</td>\n",
       "      <td>1</td>\n",
       "      <td>0</td>\n",
       "      <td>0</td>\n",
       "      <td>0</td>\n",
       "    </tr>\n",
       "    <tr>\n",
       "      <th>4</th>\n",
       "      <td>0</td>\n",
       "      <td>0</td>\n",
       "      <td>1</td>\n",
       "      <td>9.305237</td>\n",
       "      <td>43.6957</td>\n",
       "      <td>12.522300</td>\n",
       "      <td>1.600</td>\n",
       "      <td>1</td>\n",
       "      <td>0</td>\n",
       "      <td>0</td>\n",
       "      <td>...</td>\n",
       "      <td>0</td>\n",
       "      <td>0</td>\n",
       "      <td>0</td>\n",
       "      <td>0</td>\n",
       "      <td>0</td>\n",
       "      <td>0</td>\n",
       "      <td>0</td>\n",
       "      <td>1</td>\n",
       "      <td>0</td>\n",
       "      <td>0</td>\n",
       "    </tr>\n",
       "  </tbody>\n",
       "</table>\n",
       "<p>5 rows × 29 columns</p>\n",
       "</div>"
      ],
      "text/plain": [
       "   yr  holiday  workingday       temp      hum  windspeed    cnt  \\\n",
       "0   0        0           0  14.110847  80.5833  10.749882  0.985   \n",
       "1   0        0           0  14.902598  69.6087  16.652113  0.801   \n",
       "2   0        0           1   8.050924  43.7273  16.636703  1.349   \n",
       "3   0        0           1   8.200000  59.0435  10.739832  1.562   \n",
       "4   0        0           1   9.305237  43.6957  12.522300  1.600   \n",
       "\n",
       "   season_spring  season_summer  season_winter  ...  mnth_oct  mnth_sep  \\\n",
       "0              1              0              0  ...         0         0   \n",
       "1              1              0              0  ...         0         0   \n",
       "2              1              0              0  ...         0         0   \n",
       "3              1              0              0  ...         0         0   \n",
       "4              1              0              0  ...         0         0   \n",
       "\n",
       "   weekday_mon  weekday_sat  weekday_sun  weekday_thu  weekday_tue  \\\n",
       "0            0            1            0            0            0   \n",
       "1            0            0            1            0            0   \n",
       "2            1            0            0            0            0   \n",
       "3            0            0            0            0            1   \n",
       "4            0            0            0            0            0   \n",
       "\n",
       "   weekday_wed  weathersit_light_snowandrain  weathersit_mist_cloudy  \n",
       "0            0                             0                       1  \n",
       "1            0                             0                       1  \n",
       "2            0                             0                       0  \n",
       "3            0                             0                       0  \n",
       "4            1                             0                       0  \n",
       "\n",
       "[5 rows x 29 columns]"
      ]
     },
     "execution_count": 28,
     "metadata": {},
     "output_type": "execute_result"
    }
   ],
   "source": [
    "df['cnt'] = df['cnt']/1000\n",
    "df.head()"
   ]
  },
  {
   "cell_type": "markdown",
   "id": "090bebca",
   "metadata": {},
   "source": [
    "## Creating train and test sets\n",
    "The first basic step for regression is performing a train-test split. For this we'll use SKLearn function *train_test_split*."
   ]
  },
  {
   "cell_type": "code",
   "execution_count": 29,
   "id": "8c531fde",
   "metadata": {},
   "outputs": [
    {
     "name": "stdout",
     "output_type": "stream",
     "text": [
      "Train set shape:  (510, 29)\n",
      "Test set shape:  (219, 29)\n"
     ]
    }
   ],
   "source": [
    "# We specify the random state so that the train and test data set always have the same rows count, respectively\n",
    "df_train, df_test = train_test_split(df, train_size = 0.7, test_size = 0.3, random_state = 100)\n",
    "\n",
    "# Prin the test and train dataframes shapes\n",
    "print('Train set shape: ', df_train.shape)\n",
    "print('Test set shape: ', df_test.shape)"
   ]
  },
  {
   "cell_type": "markdown",
   "id": "556066be",
   "metadata": {},
   "source": [
    "### Rescaling the features\n",
    "It is important to rescale the variables so that they have a comparable scale. Categorical variables have all values 0 or 1, while numerical ones don't and will need to be rescaled to a range between 0 and 1.\n",
    "\n",
    "As we need a range between 0 and 1, we'll use *normalisation* (MinMax). Also, as we are keeping the outliers, this scaling method we'll help reduce their effect."
   ]
  },
  {
   "cell_type": "code",
   "execution_count": 30,
   "id": "43e47456",
   "metadata": {},
   "outputs": [],
   "source": [
    "# Create an object for MinMax scaler\n",
    "scaler = MinMaxScaler()\n",
    "\n",
    "# Apply scaler() to the numerical columns\n",
    "num_vars = ['temp', 'hum', 'windspeed']\n",
    "\n",
    "df_train[num_vars] = scaler.fit_transform(df_train[num_vars])"
   ]
  },
  {
   "cell_type": "markdown",
   "id": "21b185ad",
   "metadata": {},
   "source": [
    "Now we have all **variables in same range** to apply linear regression."
   ]
  },
  {
   "cell_type": "code",
   "execution_count": 31,
   "id": "27e6885c",
   "metadata": {},
   "outputs": [
    {
     "data": {
      "text/html": [
       "<div>\n",
       "<style scoped>\n",
       "    .dataframe tbody tr th:only-of-type {\n",
       "        vertical-align: middle;\n",
       "    }\n",
       "\n",
       "    .dataframe tbody tr th {\n",
       "        vertical-align: top;\n",
       "    }\n",
       "\n",
       "    .dataframe thead th {\n",
       "        text-align: right;\n",
       "    }\n",
       "</style>\n",
       "<table border=\"1\" class=\"dataframe\">\n",
       "  <thead>\n",
       "    <tr style=\"text-align: right;\">\n",
       "      <th></th>\n",
       "      <th>temp</th>\n",
       "      <th>hum</th>\n",
       "      <th>windspeed</th>\n",
       "    </tr>\n",
       "  </thead>\n",
       "  <tbody>\n",
       "    <tr>\n",
       "      <th>count</th>\n",
       "      <td>510.000000</td>\n",
       "      <td>510.000000</td>\n",
       "      <td>510.000000</td>\n",
       "    </tr>\n",
       "    <tr>\n",
       "      <th>mean</th>\n",
       "      <td>0.537262</td>\n",
       "      <td>0.650369</td>\n",
       "      <td>0.320768</td>\n",
       "    </tr>\n",
       "    <tr>\n",
       "      <th>std</th>\n",
       "      <td>0.225844</td>\n",
       "      <td>0.145882</td>\n",
       "      <td>0.169797</td>\n",
       "    </tr>\n",
       "    <tr>\n",
       "      <th>min</th>\n",
       "      <td>0.000000</td>\n",
       "      <td>0.000000</td>\n",
       "      <td>0.000000</td>\n",
       "    </tr>\n",
       "    <tr>\n",
       "      <th>25%</th>\n",
       "      <td>0.339853</td>\n",
       "      <td>0.538643</td>\n",
       "      <td>0.199179</td>\n",
       "    </tr>\n",
       "    <tr>\n",
       "      <th>50%</th>\n",
       "      <td>0.540519</td>\n",
       "      <td>0.653714</td>\n",
       "      <td>0.296763</td>\n",
       "    </tr>\n",
       "    <tr>\n",
       "      <th>75%</th>\n",
       "      <td>0.735215</td>\n",
       "      <td>0.754830</td>\n",
       "      <td>0.414447</td>\n",
       "    </tr>\n",
       "    <tr>\n",
       "      <th>max</th>\n",
       "      <td>1.000000</td>\n",
       "      <td>1.000000</td>\n",
       "      <td>1.000000</td>\n",
       "    </tr>\n",
       "  </tbody>\n",
       "</table>\n",
       "</div>"
      ],
      "text/plain": [
       "             temp         hum   windspeed\n",
       "count  510.000000  510.000000  510.000000\n",
       "mean     0.537262    0.650369    0.320768\n",
       "std      0.225844    0.145882    0.169797\n",
       "min      0.000000    0.000000    0.000000\n",
       "25%      0.339853    0.538643    0.199179\n",
       "50%      0.540519    0.653714    0.296763\n",
       "75%      0.735215    0.754830    0.414447\n",
       "max      1.000000    1.000000    1.000000"
      ]
     },
     "execution_count": 31,
     "metadata": {},
     "output_type": "execute_result"
    }
   ],
   "source": [
    "# Describe numerical variables\n",
    "df_train[['temp','hum','windspeed']].describe()"
   ]
  },
  {
   "cell_type": "markdown",
   "id": "95a55bef",
   "metadata": {},
   "source": [
    "We'll print the variables correlations to have an idea of which variables we could use for the model."
   ]
  },
  {
   "cell_type": "code",
   "execution_count": 32,
   "id": "3bae542e",
   "metadata": {},
   "outputs": [
    {
     "data": {
      "image/png": "[encoded data removed]",
      "text/plain": [
       "<Figure size 144x504 with 2 Axes>"
      ]
     },
     "metadata": {
      "needs_background": "light"
     },
     "output_type": "display_data"
    }
   ],
   "source": [
    "# Get correlation column only for cnt\n",
    "df_corr = pd.DataFrame(df.corr()['cnt'],index=df.corr().index)\n",
    "\n",
    "# Print variables correlation coefficients with cnt\n",
    "plt.figure(figsize = (2, 7))\n",
    "sns.heatmap(df_corr, annot = True, cmap='Greens')\n",
    "plt.show()"
   ]
  },
  {
   "cell_type": "markdown",
   "id": "24c21e50",
   "metadata": {},
   "source": [
    "When looking at the correlation value it might still not be clear if we should use a variable or not in the model, we need to check if the correlation coefficients are significant. For that, we can use *stats.pearsonr* method to **obtain the p-value for a correlation coefficient**.\n",
    "\n",
    "If p-value is less than 0.05, we can say that the correlation coefficient is significant.\n",
    "\n",
    "If p-value is greater than 0.05, there is inconclusive evidence about the significance."
   ]
  },
  {
   "cell_type": "code",
   "execution_count": 33,
   "id": "29dd77d5",
   "metadata": {},
   "outputs": [
    {
     "name": "stdout",
     "output_type": "stream",
     "text": [
      "significant p-values for variables (against cnt column)\n",
      "\n",
      "'yr' p-value: 0.0\n",
      "'temp' p-value: 0.0\n",
      "'hum' p-value: 0.0077\n",
      "'windspeed' p-value: 0.0\n",
      "'season_spring' p-value: 0.0\n",
      "'season_summer' p-value: 0.0001\n",
      "'mnth_aug' p-value: 0.0\n",
      "'mnth_dec' p-value: 0.0\n",
      "'mnth_feb' p-value: 0.0\n",
      "'mnth_jan' p-value: 0.0\n",
      "'mnth_jul' p-value: 0.0\n",
      "'mnth_jun' p-value: 0.0\n",
      "'mnth_mar' p-value: 0.0005\n",
      "'mnth_may' p-value: 0.0003\n",
      "'mnth_oct' p-value: 0.0032\n",
      "'mnth_sep' p-value: 0.0\n",
      "'weathersit_light_snowandrain' p-value: 0.0\n",
      "'weathersit_mist_cloudy' p-value: 0.0\n",
      "\n",
      "not significant p-values for variables (against cnt column)\n",
      "\n",
      "'holiday' p-value: 0.0633\n",
      "'workingday' p-value: 0.0913\n",
      "'season_winter' p-value: 0.081\n",
      "'mnth_nov' p-value: 0.2763\n",
      "'weekday_mon' p-value: 0.3315\n",
      "'weekday_sat' p-value: 0.808\n",
      "'weekday_sun' p-value: 0.1103\n",
      "'weekday_thu' p-value: 0.3654\n",
      "'weekday_tue' p-value: 0.988\n",
      "'weekday_wed' p-value: 0.7055\n"
     ]
    }
   ],
   "source": [
    "# Get p-value for variables to check their significance (against cnt column)\n",
    "print('significant p-values for variables (against cnt column)\\n')\n",
    "for col in df.columns:\n",
    "    p_value = stats.pearsonr(df[col], df['cnt'])[1]\n",
    "    if p_value < 0.05 and col != 'cnt':\n",
    "        print('\\'{0}\\' p-value: {1}'.format(col, round(stats.pearsonr(df[col], df['cnt'])[1],4)))\n",
    "        \n",
    "# Get p-value for variables to check their significance (against cnt column)\n",
    "print('\\nnot significant p-values for variables (against cnt column)\\n')\n",
    "for col in df.columns:\n",
    "    p_value = stats.pearsonr(df[col], df['cnt'])[1]\n",
    "    if p_value > 0.05 and col != 'cnt':\n",
    "        print('\\'{0}\\' p-value: {1}'.format(col, round(stats.pearsonr(df[col], df['cnt'])[1],4)))"
   ]
  },
  {
   "cell_type": "markdown",
   "id": "261ce5f9",
   "metadata": {},
   "source": [
    "From above categorical variables **were also spotted as relevant in the categorical variables analysis**, now we have specific categories that might be more relevant for the prediction.\n",
    "\n",
    "As per reviewing *multicollinearity*, we'll check in the specific section."
   ]
  },
  {
   "cell_type": "markdown",
   "id": "0c129372",
   "metadata": {},
   "source": [
    "### Dividing into X and Y sets for the model building\n",
    "Now we'll separate the dependent variables from the independent one."
   ]
  },
  {
   "cell_type": "code",
   "execution_count": 34,
   "id": "2e66ff9c",
   "metadata": {},
   "outputs": [],
   "source": [
    "y_train = df_train.pop('cnt')\n",
    "X_train = df_train"
   ]
  },
  {
   "cell_type": "markdown",
   "id": "8ad358c1",
   "metadata": {},
   "source": [
    "## Building the model\n",
    "In previous section we got a list of variables and its correlation significance against *cnt*. There are in total 18 columns with a significant correlation coefficient, but as we want to narrow down the final number of variables we might want to start with a lower value.\n",
    "\n",
    "We'll use Recursive Feature Elimination **(RFE)** and start with **number of variables equal to 15**. Then we can compare with previous results and start the modeling."
   ]
  },
  {
   "cell_type": "code",
   "execution_count": 35,
   "id": "42075ccf",
   "metadata": {},
   "outputs": [],
   "source": [
    "# Run RFE with the output number of variables equal to 18\n",
    "lm = LinearRegression()\n",
    "lm.fit(X_train, y_train)\n",
    "\n",
    "rfe = RFE(lm, 15)             \n",
    "rfe = rfe.fit(X_train, y_train)"
   ]
  },
  {
   "cell_type": "code",
   "execution_count": 36,
   "id": "2a34175f",
   "metadata": {},
   "outputs": [
    {
     "data": {
      "text/plain": [
       "[('yr', True, 1),\n",
       " ('holiday', True, 1),\n",
       " ('workingday', True, 1),\n",
       " ('temp', True, 1),\n",
       " ('hum', True, 1),\n",
       " ('windspeed', True, 1),\n",
       " ('season_spring', True, 1),\n",
       " ('season_summer', True, 1),\n",
       " ('season_winter', True, 1),\n",
       " ('mnth_aug', False, 6),\n",
       " ('mnth_dec', False, 3),\n",
       " ('mnth_feb', False, 4),\n",
       " ('mnth_jan', True, 1),\n",
       " ('mnth_jul', True, 1),\n",
       " ('mnth_jun', False, 13),\n",
       " ('mnth_mar', False, 14),\n",
       " ('mnth_may', False, 5),\n",
       " ('mnth_nov', False, 2),\n",
       " ('mnth_oct', False, 10),\n",
       " ('mnth_sep', True, 1),\n",
       " ('weekday_mon', False, 8),\n",
       " ('weekday_sat', True, 1),\n",
       " ('weekday_sun', False, 7),\n",
       " ('weekday_thu', False, 11),\n",
       " ('weekday_tue', False, 9),\n",
       " ('weekday_wed', False, 12),\n",
       " ('weathersit_light_snowandrain', True, 1),\n",
       " ('weathersit_mist_cloudy', True, 1)]"
      ]
     },
     "execution_count": 36,
     "metadata": {},
     "output_type": "execute_result"
    }
   ],
   "source": [
    "# Print the variables with ranking obtained from RFE\n",
    "list(zip(X_train.columns,rfe.support_,rfe.ranking_))"
   ]
  },
  {
   "cell_type": "code",
   "execution_count": 37,
   "id": "c2a4aa20",
   "metadata": {},
   "outputs": [
    {
     "name": "stdout",
     "output_type": "stream",
     "text": [
      "Total selected columns by RFE:  15\n"
     ]
    },
    {
     "data": {
      "text/plain": [
       "Index(['yr', 'holiday', 'workingday', 'temp', 'hum', 'windspeed',\n",
       "       'season_spring', 'season_summer', 'season_winter', 'mnth_jan',\n",
       "       'mnth_jul', 'mnth_sep', 'weekday_sat', 'weathersit_light_snowandrain',\n",
       "       'weathersit_mist_cloudy'],\n",
       "      dtype='object')"
      ]
     },
     "execution_count": 37,
     "metadata": {},
     "output_type": "execute_result"
    }
   ],
   "source": [
    "# Print the columns selected by RFE\n",
    "selected_cols = X_train.columns[rfe.support_]\n",
    "print('Total selected columns by RFE: ',len(selected_cols))\n",
    "selected_cols"
   ]
  },
  {
   "cell_type": "code",
   "execution_count": 38,
   "id": "66ce5615",
   "metadata": {},
   "outputs": [
    {
     "name": "stdout",
     "output_type": "stream",
     "text": [
      "Not selected columns by RFE\n"
     ]
    },
    {
     "data": {
      "text/plain": [
       "Index(['mnth_aug', 'mnth_dec', 'mnth_feb', 'mnth_jun', 'mnth_mar', 'mnth_may',\n",
       "       'mnth_nov', 'mnth_oct', 'weekday_mon', 'weekday_sun', 'weekday_thu',\n",
       "       'weekday_tue', 'weekday_wed'],\n",
       "      dtype='object')"
      ]
     },
     "execution_count": 38,
     "metadata": {},
     "output_type": "execute_result"
    }
   ],
   "source": [
    "# Print the columns not selected by RFE\n",
    "print('Not selected columns by RFE')\n",
    "X_train.columns[~rfe.support_]"
   ]
  },
  {
   "cell_type": "markdown",
   "id": "591b232e",
   "metadata": {},
   "source": [
    "The **common columns** we have with our **previous review** (with correlation coefficients and p-value) are in total 11:\n",
    "- yr\n",
    "- temp\n",
    "- hum\n",
    "- windspeed\n",
    "- season_spring\n",
    "- season_summer\n",
    "- mnth_jan\n",
    "- mnth_jul\n",
    "- mnth_sep\n",
    "- weathersit_light_snowandrain\n",
    "- weathersit_mist_cloudy\n",
    "\n",
    "RFE selected this **different** 4 variables:\n",
    "- holiday\n",
    "- workingday\n",
    "- season_winter\n",
    "- weekday_sat"
   ]
  },
  {
   "cell_type": "markdown",
   "id": "8bb0e7d5",
   "metadata": {},
   "source": [
    "### First model\n",
    "\n",
    "We'll go with a **first model using RFE selected columns**, as it has used most of the columns we have analysed before and confirmed are related to *cnt*.\n",
    "\n",
    "We'll use statsmodel library to get detailed statistics. "
   ]
  },
  {
   "cell_type": "code",
   "execution_count": 39,
   "id": "7b14b294",
   "metadata": {},
   "outputs": [],
   "source": [
    "# Create an X_test dataframe with RFE selected variables\n",
    "X_train_lm1 = X_train[selected_cols]\n",
    "\n",
    "# Call function to generate model\n",
    "lm_1 = sm_lr_model(X_train_lm1)"
   ]
  },
  {
   "cell_type": "markdown",
   "id": "58e928fb",
   "metadata": {},
   "source": [
    "Let's see the **summary of our first linear model**."
   ]
  },
  {
   "cell_type": "code",
   "execution_count": 40,
   "id": "90e3c136",
   "metadata": {},
   "outputs": [
    {
     "data": {
      "text/html": [
       "<table class=\"simpletable\">\n",
       "<caption>OLS Regression Results</caption>\n",
       "<tr>\n",
       "  <th>Dep. Variable:</th>           <td>cnt</td>       <th>  R-squared:         </th> <td>   0.849</td> \n",
       "</tr>\n",
       "<tr>\n",
       "  <th>Model:</th>                   <td>OLS</td>       <th>  Adj. R-squared:    </th> <td>   0.844</td> \n",
       "</tr>\n",
       "<tr>\n",
       "  <th>Method:</th>             <td>Least Squares</td>  <th>  F-statistic:       </th> <td>   184.6</td> \n",
       "</tr>\n",
       "<tr>\n",
       "  <th>Date:</th>             <td>Mon, 11 Apr 2022</td> <th>  Prob (F-statistic):</th> <td>2.31e-191</td>\n",
       "</tr>\n",
       "<tr>\n",
       "  <th>Time:</th>                 <td>23:30:37</td>     <th>  Log-Likelihood:    </th> <td> -582.94</td> \n",
       "</tr>\n",
       "<tr>\n",
       "  <th>No. Observations:</th>      <td>   510</td>      <th>  AIC:               </th> <td>   1198.</td> \n",
       "</tr>\n",
       "<tr>\n",
       "  <th>Df Residuals:</th>          <td>   494</td>      <th>  BIC:               </th> <td>   1266.</td> \n",
       "</tr>\n",
       "<tr>\n",
       "  <th>Df Model:</th>              <td>    15</td>      <th>                     </th>     <td> </td>    \n",
       "</tr>\n",
       "<tr>\n",
       "  <th>Covariance Type:</th>      <td>nonrobust</td>    <th>                     </th>     <td> </td>    \n",
       "</tr>\n",
       "</table>\n",
       "<table class=\"simpletable\">\n",
       "<tr>\n",
       "                <td></td>                  <th>coef</th>     <th>std err</th>      <th>t</th>      <th>P>|t|</th>  <th>[0.025</th>    <th>0.975]</th>  \n",
       "</tr>\n",
       "<tr>\n",
       "  <th>const</th>                        <td>    2.2041</td> <td>    0.314</td> <td>    7.019</td> <td> 0.000</td> <td>    1.587</td> <td>    2.821</td>\n",
       "</tr>\n",
       "<tr>\n",
       "  <th>yr</th>                           <td>    2.0035</td> <td>    0.070</td> <td>   28.807</td> <td> 0.000</td> <td>    1.867</td> <td>    2.140</td>\n",
       "</tr>\n",
       "<tr>\n",
       "  <th>holiday</th>                      <td>   -0.5087</td> <td>    0.234</td> <td>   -2.178</td> <td> 0.030</td> <td>   -0.968</td> <td>   -0.050</td>\n",
       "</tr>\n",
       "<tr>\n",
       "  <th>workingday</th>                   <td>    0.3783</td> <td>    0.100</td> <td>    3.781</td> <td> 0.000</td> <td>    0.182</td> <td>    0.575</td>\n",
       "</tr>\n",
       "<tr>\n",
       "  <th>temp</th>                         <td>    4.4315</td> <td>    0.298</td> <td>   14.851</td> <td> 0.000</td> <td>    3.845</td> <td>    5.018</td>\n",
       "</tr>\n",
       "<tr>\n",
       "  <th>hum</th>                          <td>   -1.3448</td> <td>    0.324</td> <td>   -4.145</td> <td> 0.000</td> <td>   -1.982</td> <td>   -0.707</td>\n",
       "</tr>\n",
       "<tr>\n",
       "  <th>windspeed</th>                    <td>   -1.6163</td> <td>    0.221</td> <td>   -7.301</td> <td> 0.000</td> <td>   -2.051</td> <td>   -1.181</td>\n",
       "</tr>\n",
       "<tr>\n",
       "  <th>season_spring</th>                <td>   -0.4416</td> <td>    0.179</td> <td>   -2.461</td> <td> 0.014</td> <td>   -0.794</td> <td>   -0.089</td>\n",
       "</tr>\n",
       "<tr>\n",
       "  <th>season_summer</th>                <td>    0.4316</td> <td>    0.129</td> <td>    3.346</td> <td> 0.001</td> <td>    0.178</td> <td>    0.685</td>\n",
       "</tr>\n",
       "<tr>\n",
       "  <th>season_winter</th>                <td>    0.8208</td> <td>    0.150</td> <td>    5.479</td> <td> 0.000</td> <td>    0.526</td> <td>    1.115</td>\n",
       "</tr>\n",
       "<tr>\n",
       "  <th>mnth_jan</th>                     <td>   -0.2984</td> <td>    0.151</td> <td>   -1.980</td> <td> 0.048</td> <td>   -0.594</td> <td>   -0.002</td>\n",
       "</tr>\n",
       "<tr>\n",
       "  <th>mnth_jul</th>                     <td>   -0.4624</td> <td>    0.157</td> <td>   -2.947</td> <td> 0.003</td> <td>   -0.771</td> <td>   -0.154</td>\n",
       "</tr>\n",
       "<tr>\n",
       "  <th>mnth_sep</th>                     <td>    0.7057</td> <td>    0.143</td> <td>    4.934</td> <td> 0.000</td> <td>    0.425</td> <td>    0.987</td>\n",
       "</tr>\n",
       "<tr>\n",
       "  <th>weekday_sat</th>                  <td>    0.4669</td> <td>    0.126</td> <td>    3.707</td> <td> 0.000</td> <td>    0.219</td> <td>    0.714</td>\n",
       "</tr>\n",
       "<tr>\n",
       "  <th>weathersit_light_snowandrain</th> <td>   -2.1624</td> <td>    0.226</td> <td>   -9.560</td> <td> 0.000</td> <td>   -2.607</td> <td>   -1.718</td>\n",
       "</tr>\n",
       "<tr>\n",
       "  <th>weathersit_mist_cloudy</th>       <td>   -0.5026</td> <td>    0.090</td> <td>   -5.574</td> <td> 0.000</td> <td>   -0.680</td> <td>   -0.325</td>\n",
       "</tr>\n",
       "</table>\n",
       "<table class=\"simpletable\">\n",
       "<tr>\n",
       "  <th>Omnibus:</th>       <td>66.344</td> <th>  Durbin-Watson:     </th> <td>   2.071</td>\n",
       "</tr>\n",
       "<tr>\n",
       "  <th>Prob(Omnibus):</th> <td> 0.000</td> <th>  Jarque-Bera (JB):  </th> <td> 161.565</td>\n",
       "</tr>\n",
       "<tr>\n",
       "  <th>Skew:</th>          <td>-0.676</td> <th>  Prob(JB):          </th> <td>8.25e-36</td>\n",
       "</tr>\n",
       "<tr>\n",
       "  <th>Kurtosis:</th>      <td> 5.403</td> <th>  Cond. No.          </th> <td>    22.1</td>\n",
       "</tr>\n",
       "</table><br/><br/>Notes:<br/>[1] Standard Errors assume that the covariance matrix of the errors is correctly specified."
      ],
      "text/plain": [
       "<class 'statsmodels.iolib.summary.Summary'>\n",
       "\"\"\"\n",
       "                            OLS Regression Results                            \n",
       "==============================================================================\n",
       "Dep. Variable:                    cnt   R-squared:                       0.849\n",
       "Model:                            OLS   Adj. R-squared:                  0.844\n",
       "Method:                 Least Squares   F-statistic:                     184.6\n",
       "Date:                Mon, 11 Apr 2022   Prob (F-statistic):          2.31e-191\n",
       "Time:                        23:30:37   Log-Likelihood:                -582.94\n",
       "No. Observations:                 510   AIC:                             1198.\n",
       "Df Residuals:                     494   BIC:                             1266.\n",
       "Df Model:                          15                                         \n",
       "Covariance Type:            nonrobust                                         \n",
       "================================================================================================\n",
       "                                   coef    std err          t      P>|t|      [0.025      0.975]\n",
       "------------------------------------------------------------------------------------------------\n",
       "const                            2.2041      0.314      7.019      0.000       1.587       2.821\n",
       "yr                               2.0035      0.070     28.807      0.000       1.867       2.140\n",
       "holiday                         -0.5087      0.234     -2.178      0.030      -0.968      -0.050\n",
       "workingday                       0.3783      0.100      3.781      0.000       0.182       0.575\n",
       "temp                             4.4315      0.298     14.851      0.000       3.845       5.018\n",
       "hum                             -1.3448      0.324     -4.145      0.000      -1.982      -0.707\n",
       "windspeed                       -1.6163      0.221     -7.301      0.000      -2.051      -1.181\n",
       "season_spring                   -0.4416      0.179     -2.461      0.014      -0.794      -0.089\n",
       "season_summer                    0.4316      0.129      3.346      0.001       0.178       0.685\n",
       "season_winter                    0.8208      0.150      5.479      0.000       0.526       1.115\n",
       "mnth_jan                        -0.2984      0.151     -1.980      0.048      -0.594      -0.002\n",
       "mnth_jul                        -0.4624      0.157     -2.947      0.003      -0.771      -0.154\n",
       "mnth_sep                         0.7057      0.143      4.934      0.000       0.425       0.987\n",
       "weekday_sat                      0.4669      0.126      3.707      0.000       0.219       0.714\n",
       "weathersit_light_snowandrain    -2.1624      0.226     -9.560      0.000      -2.607      -1.718\n",
       "weathersit_mist_cloudy          -0.5026      0.090     -5.574      0.000      -0.680      -0.325\n",
       "==============================================================================\n",
       "Omnibus:                       66.344   Durbin-Watson:                   2.071\n",
       "Prob(Omnibus):                  0.000   Jarque-Bera (JB):              161.565\n",
       "Skew:                          -0.676   Prob(JB):                     8.25e-36\n",
       "Kurtosis:                       5.403   Cond. No.                         22.1\n",
       "==============================================================================\n",
       "\n",
       "Notes:\n",
       "[1] Standard Errors assume that the covariance matrix of the errors is correctly specified.\n",
       "\"\"\""
      ]
     },
     "execution_count": 40,
     "metadata": {},
     "output_type": "execute_result"
    }
   ],
   "source": [
    "lm_1.summary()"
   ]
  },
  {
   "cell_type": "markdown",
   "id": "e12146b2",
   "metadata": {},
   "source": [
    "**Most relevant summary statistics**:\n",
    "- $R^{2}$ = 0.849\n",
    "- Adjusted $R^{2}$ = 0.844\n",
    "- F-statistic = 184.6\n",
    "- P(F-statistic) = 2.31e-191 ~ 0.0\n",
    "\n",
    "$R^{2}$ and the Adjusted $R^{2}$ have similar values, which means **the model is significant**.\n",
    "\n",
    "The value of the F-statistic is high and the Prob(F) is almost zero and hence, we can conclude that **the overall model fit is significant**. \n",
    "\n",
    "From the beginning we have had *weathersit*, *season*, *mnth*, *yr*, *temp*, and *hum* as relevant variables. These results make sense as bike rentals will be made in seasons with high temperature but with low humidity/rain/snow."
   ]
  },
  {
   "cell_type": "markdown",
   "id": "6b016539",
   "metadata": {},
   "source": [
    "We do not have variables with a p-value greater than 0.05, but we cannot confirm the model is the best one we can obtain, **we also need to look at the Variance Inflation Factor (VIF)**."
   ]
  },
  {
   "cell_type": "code",
   "execution_count": 41,
   "id": "4a20adc7",
   "metadata": {},
   "outputs": [
    {
     "data": {
      "text/html": [
       "<div>\n",
       "<style scoped>\n",
       "    .dataframe tbody tr th:only-of-type {\n",
       "        vertical-align: middle;\n",
       "    }\n",
       "\n",
       "    .dataframe tbody tr th {\n",
       "        vertical-align: top;\n",
       "    }\n",
       "\n",
       "    .dataframe thead th {\n",
       "        text-align: right;\n",
       "    }\n",
       "</style>\n",
       "<table border=\"1\" class=\"dataframe\">\n",
       "  <thead>\n",
       "    <tr style=\"text-align: right;\">\n",
       "      <th></th>\n",
       "      <th>Features</th>\n",
       "      <th>VIF</th>\n",
       "    </tr>\n",
       "  </thead>\n",
       "  <tbody>\n",
       "    <tr>\n",
       "      <th>4</th>\n",
       "      <td>hum</td>\n",
       "      <td>29.40</td>\n",
       "    </tr>\n",
       "    <tr>\n",
       "      <th>3</th>\n",
       "      <td>temp</td>\n",
       "      <td>17.77</td>\n",
       "    </tr>\n",
       "    <tr>\n",
       "      <th>2</th>\n",
       "      <td>workingday</td>\n",
       "      <td>5.31</td>\n",
       "    </tr>\n",
       "    <tr>\n",
       "      <th>5</th>\n",
       "      <td>windspeed</td>\n",
       "      <td>4.73</td>\n",
       "    </tr>\n",
       "    <tr>\n",
       "      <th>6</th>\n",
       "      <td>season_spring</td>\n",
       "      <td>4.53</td>\n",
       "    </tr>\n",
       "    <tr>\n",
       "      <th>8</th>\n",
       "      <td>season_winter</td>\n",
       "      <td>3.48</td>\n",
       "    </tr>\n",
       "    <tr>\n",
       "      <th>7</th>\n",
       "      <td>season_summer</td>\n",
       "      <td>2.84</td>\n",
       "    </tr>\n",
       "    <tr>\n",
       "      <th>14</th>\n",
       "      <td>weathersit_mist_cloudy</td>\n",
       "      <td>2.29</td>\n",
       "    </tr>\n",
       "    <tr>\n",
       "      <th>0</th>\n",
       "      <td>yr</td>\n",
       "      <td>2.09</td>\n",
       "    </tr>\n",
       "    <tr>\n",
       "      <th>12</th>\n",
       "      <td>weekday_sat</td>\n",
       "      <td>1.98</td>\n",
       "    </tr>\n",
       "    <tr>\n",
       "      <th>9</th>\n",
       "      <td>mnth_jan</td>\n",
       "      <td>1.67</td>\n",
       "    </tr>\n",
       "    <tr>\n",
       "      <th>10</th>\n",
       "      <td>mnth_jul</td>\n",
       "      <td>1.59</td>\n",
       "    </tr>\n",
       "    <tr>\n",
       "      <th>11</th>\n",
       "      <td>mnth_sep</td>\n",
       "      <td>1.39</td>\n",
       "    </tr>\n",
       "    <tr>\n",
       "      <th>13</th>\n",
       "      <td>weathersit_light_snowandrain</td>\n",
       "      <td>1.25</td>\n",
       "    </tr>\n",
       "    <tr>\n",
       "      <th>1</th>\n",
       "      <td>holiday</td>\n",
       "      <td>1.18</td>\n",
       "    </tr>\n",
       "  </tbody>\n",
       "</table>\n",
       "</div>"
      ],
      "text/plain": [
       "                        Features    VIF\n",
       "4                            hum  29.40\n",
       "3                           temp  17.77\n",
       "2                     workingday   5.31\n",
       "5                      windspeed   4.73\n",
       "6                  season_spring   4.53\n",
       "8                  season_winter   3.48\n",
       "7                  season_summer   2.84\n",
       "14        weathersit_mist_cloudy   2.29\n",
       "0                             yr   2.09\n",
       "12                   weekday_sat   1.98\n",
       "9                       mnth_jan   1.67\n",
       "10                      mnth_jul   1.59\n",
       "11                      mnth_sep   1.39\n",
       "13  weathersit_light_snowandrain   1.25\n",
       "1                        holiday   1.18"
      ]
     },
     "execution_count": 41,
     "metadata": {},
     "output_type": "execute_result"
    }
   ],
   "source": [
    "# Calculate VIF for X_train\n",
    "get_vif(X_train_lm1)"
   ]
  },
  {
   "cell_type": "markdown",
   "id": "13bdedcc",
   "metadata": {},
   "source": [
    "As we can see, we have **3 variables with a high VIF** (greater than 5). First we'll drop one and then continue with the others."
   ]
  },
  {
   "cell_type": "markdown",
   "id": "0876e3b7",
   "metadata": {},
   "source": [
    "### Second model\n",
    "\n",
    "We'll start by dropping the variable with highest VIF value, *hum*, and then build a new model."
   ]
  },
  {
   "cell_type": "code",
   "execution_count": 42,
   "id": "84d5e2b7",
   "metadata": {},
   "outputs": [],
   "source": [
    "# Drop mnth_feb variable\n",
    "X_train_lm2 = X_train_lm1.drop(['hum'],axis = 1)\n",
    "\n",
    "# Call function to generate model\n",
    "lm_2 = sm_lr_model(X_train_lm2)"
   ]
  },
  {
   "cell_type": "markdown",
   "id": "1b2f9f52",
   "metadata": {},
   "source": [
    "Let's see the **summary of our second linear model**."
   ]
  },
  {
   "cell_type": "code",
   "execution_count": 43,
   "id": "95008b15",
   "metadata": {},
   "outputs": [
    {
     "data": {
      "text/html": [
       "<table class=\"simpletable\">\n",
       "<caption>OLS Regression Results</caption>\n",
       "<tr>\n",
       "  <th>Dep. Variable:</th>           <td>cnt</td>       <th>  R-squared:         </th> <td>   0.843</td> \n",
       "</tr>\n",
       "<tr>\n",
       "  <th>Model:</th>                   <td>OLS</td>       <th>  Adj. R-squared:    </th> <td>   0.839</td> \n",
       "</tr>\n",
       "<tr>\n",
       "  <th>Method:</th>             <td>Least Squares</td>  <th>  F-statistic:       </th> <td>   190.3</td> \n",
       "</tr>\n",
       "<tr>\n",
       "  <th>Date:</th>             <td>Mon, 11 Apr 2022</td> <th>  Prob (F-statistic):</th> <td>7.33e-189</td>\n",
       "</tr>\n",
       "<tr>\n",
       "  <th>Time:</th>                 <td>23:30:37</td>     <th>  Log-Likelihood:    </th> <td> -591.66</td> \n",
       "</tr>\n",
       "<tr>\n",
       "  <th>No. Observations:</th>      <td>   510</td>      <th>  AIC:               </th> <td>   1213.</td> \n",
       "</tr>\n",
       "<tr>\n",
       "  <th>Df Residuals:</th>          <td>   495</td>      <th>  BIC:               </th> <td>   1277.</td> \n",
       "</tr>\n",
       "<tr>\n",
       "  <th>Df Model:</th>              <td>    14</td>      <th>                     </th>     <td> </td>    \n",
       "</tr>\n",
       "<tr>\n",
       "  <th>Covariance Type:</th>      <td>nonrobust</td>    <th>                     </th>     <td> </td>    \n",
       "</tr>\n",
       "</table>\n",
       "<table class=\"simpletable\">\n",
       "<tr>\n",
       "                <td></td>                  <th>coef</th>     <th>std err</th>      <th>t</th>      <th>P>|t|</th>  <th>[0.025</th>    <th>0.975]</th>  \n",
       "</tr>\n",
       "<tr>\n",
       "  <th>const</th>                        <td>    1.5315</td> <td>    0.273</td> <td>    5.605</td> <td> 0.000</td> <td>    0.995</td> <td>    2.068</td>\n",
       "</tr>\n",
       "<tr>\n",
       "  <th>yr</th>                           <td>    2.0371</td> <td>    0.070</td> <td>   29.019</td> <td> 0.000</td> <td>    1.899</td> <td>    2.175</td>\n",
       "</tr>\n",
       "<tr>\n",
       "  <th>holiday</th>                      <td>   -0.4885</td> <td>    0.237</td> <td>   -2.058</td> <td> 0.040</td> <td>   -0.955</td> <td>   -0.022</td>\n",
       "</tr>\n",
       "<tr>\n",
       "  <th>workingday</th>                   <td>    0.4042</td> <td>    0.101</td> <td>    3.983</td> <td> 0.000</td> <td>    0.205</td> <td>    0.604</td>\n",
       "</tr>\n",
       "<tr>\n",
       "  <th>temp</th>                         <td>    4.1098</td> <td>    0.293</td> <td>   14.037</td> <td> 0.000</td> <td>    3.535</td> <td>    4.685</td>\n",
       "</tr>\n",
       "<tr>\n",
       "  <th>windspeed</th>                    <td>   -1.3583</td> <td>    0.216</td> <td>   -6.292</td> <td> 0.000</td> <td>   -1.782</td> <td>   -0.934</td>\n",
       "</tr>\n",
       "<tr>\n",
       "  <th>season_spring</th>                <td>   -0.5189</td> <td>    0.181</td> <td>   -2.861</td> <td> 0.004</td> <td>   -0.875</td> <td>   -0.163</td>\n",
       "</tr>\n",
       "<tr>\n",
       "  <th>season_summer</th>                <td>    0.3768</td> <td>    0.130</td> <td>    2.890</td> <td> 0.004</td> <td>    0.121</td> <td>    0.633</td>\n",
       "</tr>\n",
       "<tr>\n",
       "  <th>season_winter</th>                <td>    0.6927</td> <td>    0.149</td> <td>    4.650</td> <td> 0.000</td> <td>    0.400</td> <td>    0.985</td>\n",
       "</tr>\n",
       "<tr>\n",
       "  <th>mnth_jan</th>                     <td>   -0.3385</td> <td>    0.153</td> <td>   -2.215</td> <td> 0.027</td> <td>   -0.639</td> <td>   -0.038</td>\n",
       "</tr>\n",
       "<tr>\n",
       "  <th>mnth_jul</th>                     <td>   -0.4191</td> <td>    0.159</td> <td>   -2.635</td> <td> 0.009</td> <td>   -0.732</td> <td>   -0.107</td>\n",
       "</tr>\n",
       "<tr>\n",
       "  <th>mnth_sep</th>                     <td>    0.6547</td> <td>    0.145</td> <td>    4.522</td> <td> 0.000</td> <td>    0.370</td> <td>    0.939</td>\n",
       "</tr>\n",
       "<tr>\n",
       "  <th>weekday_sat</th>                  <td>    0.5079</td> <td>    0.128</td> <td>    3.980</td> <td> 0.000</td> <td>    0.257</td> <td>    0.759</td>\n",
       "</tr>\n",
       "<tr>\n",
       "  <th>weathersit_light_snowandrain</th> <td>   -2.5357</td> <td>    0.211</td> <td>  -12.027</td> <td> 0.000</td> <td>   -2.950</td> <td>   -2.121</td>\n",
       "</tr>\n",
       "<tr>\n",
       "  <th>weathersit_mist_cloudy</th>       <td>   -0.7181</td> <td>    0.075</td> <td>   -9.592</td> <td> 0.000</td> <td>   -0.865</td> <td>   -0.571</td>\n",
       "</tr>\n",
       "</table>\n",
       "<table class=\"simpletable\">\n",
       "<tr>\n",
       "  <th>Omnibus:</th>       <td>67.959</td> <th>  Durbin-Watson:     </th> <td>   2.066</td>\n",
       "</tr>\n",
       "<tr>\n",
       "  <th>Prob(Omnibus):</th> <td> 0.000</td> <th>  Jarque-Bera (JB):  </th> <td> 166.078</td>\n",
       "</tr>\n",
       "<tr>\n",
       "  <th>Skew:</th>          <td>-0.690</td> <th>  Prob(JB):          </th> <td>8.64e-37</td>\n",
       "</tr>\n",
       "<tr>\n",
       "  <th>Kurtosis:</th>      <td> 5.431</td> <th>  Cond. No.          </th> <td>    20.0</td>\n",
       "</tr>\n",
       "</table><br/><br/>Notes:<br/>[1] Standard Errors assume that the covariance matrix of the errors is correctly specified."
      ],
      "text/plain": [
       "<class 'statsmodels.iolib.summary.Summary'>\n",
       "\"\"\"\n",
       "                            OLS Regression Results                            \n",
       "==============================================================================\n",
       "Dep. Variable:                    cnt   R-squared:                       0.843\n",
       "Model:                            OLS   Adj. R-squared:                  0.839\n",
       "Method:                 Least Squares   F-statistic:                     190.3\n",
       "Date:                Mon, 11 Apr 2022   Prob (F-statistic):          7.33e-189\n",
       "Time:                        23:30:37   Log-Likelihood:                -591.66\n",
       "No. Observations:                 510   AIC:                             1213.\n",
       "Df Residuals:                     495   BIC:                             1277.\n",
       "Df Model:                          14                                         \n",
       "Covariance Type:            nonrobust                                         \n",
       "================================================================================================\n",
       "                                   coef    std err          t      P>|t|      [0.025      0.975]\n",
       "------------------------------------------------------------------------------------------------\n",
       "const                            1.5315      0.273      5.605      0.000       0.995       2.068\n",
       "yr                               2.0371      0.070     29.019      0.000       1.899       2.175\n",
       "holiday                         -0.4885      0.237     -2.058      0.040      -0.955      -0.022\n",
       "workingday                       0.4042      0.101      3.983      0.000       0.205       0.604\n",
       "temp                             4.1098      0.293     14.037      0.000       3.535       4.685\n",
       "windspeed                       -1.3583      0.216     -6.292      0.000      -1.782      -0.934\n",
       "season_spring                   -0.5189      0.181     -2.861      0.004      -0.875      -0.163\n",
       "season_summer                    0.3768      0.130      2.890      0.004       0.121       0.633\n",
       "season_winter                    0.6927      0.149      4.650      0.000       0.400       0.985\n",
       "mnth_jan                        -0.3385      0.153     -2.215      0.027      -0.639      -0.038\n",
       "mnth_jul                        -0.4191      0.159     -2.635      0.009      -0.732      -0.107\n",
       "mnth_sep                         0.6547      0.145      4.522      0.000       0.370       0.939\n",
       "weekday_sat                      0.5079      0.128      3.980      0.000       0.257       0.759\n",
       "weathersit_light_snowandrain    -2.5357      0.211    -12.027      0.000      -2.950      -2.121\n",
       "weathersit_mist_cloudy          -0.7181      0.075     -9.592      0.000      -0.865      -0.571\n",
       "==============================================================================\n",
       "Omnibus:                       67.959   Durbin-Watson:                   2.066\n",
       "Prob(Omnibus):                  0.000   Jarque-Bera (JB):              166.078\n",
       "Skew:                          -0.690   Prob(JB):                     8.64e-37\n",
       "Kurtosis:                       5.431   Cond. No.                         20.0\n",
       "==============================================================================\n",
       "\n",
       "Notes:\n",
       "[1] Standard Errors assume that the covariance matrix of the errors is correctly specified.\n",
       "\"\"\""
      ]
     },
     "execution_count": 43,
     "metadata": {},
     "output_type": "execute_result"
    }
   ],
   "source": [
    "lm_2.summary()"
   ]
  },
  {
   "cell_type": "markdown",
   "id": "429f4a9b",
   "metadata": {},
   "source": [
    "**Most relevant summary statistics**:\n",
    "- $R^{2}$ = 0.843\n",
    "- Adjusted $R^{2}$ = 0.839\n",
    "- F-statistic = 190.3\n",
    "- P(F-statistic) = 7.33e-189 ~ 0.0\n",
    "\n",
    "After **removing *hum*** the $R^{2}$ and the Adjusted $R^{2}$ **values remained almost the same**, so we confirm the variable was not significant for the model.\n",
    "$R^{2}$ and the Adjusted $R^{2}$ have similar values, which means **the model is still significant**.\n",
    "\n",
    "The value of the F-statistic increased by removing *hum* and the Prob(F) decreased and hence, we can conclude that **the overall model fit is still significant**, and even more than last one.\n",
    "\n",
    "During numerical variables analysis we saw a negative correlation between hum and cnt that was kept here: the higher hum, the less people renting bikes. Humidity is not significant, but we could say that the model is still keeping the humidity \"inside\" the season or month categories (as every season/month have specific humidity characteristics)."
   ]
  },
  {
   "cell_type": "markdown",
   "id": "b23034a4",
   "metadata": {},
   "source": [
    "We can also see that general p-values decreased. But we still need to review **new VIF values**."
   ]
  },
  {
   "cell_type": "code",
   "execution_count": 44,
   "id": "2b9e7a9a",
   "metadata": {},
   "outputs": [
    {
     "data": {
      "text/html": [
       "<div>\n",
       "<style scoped>\n",
       "    .dataframe tbody tr th:only-of-type {\n",
       "        vertical-align: middle;\n",
       "    }\n",
       "\n",
       "    .dataframe tbody tr th {\n",
       "        vertical-align: top;\n",
       "    }\n",
       "\n",
       "    .dataframe thead th {\n",
       "        text-align: right;\n",
       "    }\n",
       "</style>\n",
       "<table border=\"1\" class=\"dataframe\">\n",
       "  <thead>\n",
       "    <tr style=\"text-align: right;\">\n",
       "      <th></th>\n",
       "      <th>Features</th>\n",
       "      <th>VIF</th>\n",
       "    </tr>\n",
       "  </thead>\n",
       "  <tbody>\n",
       "    <tr>\n",
       "      <th>3</th>\n",
       "      <td>temp</td>\n",
       "      <td>7.07</td>\n",
       "    </tr>\n",
       "    <tr>\n",
       "      <th>2</th>\n",
       "      <td>workingday</td>\n",
       "      <td>5.24</td>\n",
       "    </tr>\n",
       "    <tr>\n",
       "      <th>4</th>\n",
       "      <td>windspeed</td>\n",
       "      <td>4.67</td>\n",
       "    </tr>\n",
       "    <tr>\n",
       "      <th>5</th>\n",
       "      <td>season_spring</td>\n",
       "      <td>3.08</td>\n",
       "    </tr>\n",
       "    <tr>\n",
       "      <th>6</th>\n",
       "      <td>season_summer</td>\n",
       "      <td>2.33</td>\n",
       "    </tr>\n",
       "    <tr>\n",
       "      <th>0</th>\n",
       "      <td>yr</td>\n",
       "      <td>2.08</td>\n",
       "    </tr>\n",
       "    <tr>\n",
       "      <th>7</th>\n",
       "      <td>season_winter</td>\n",
       "      <td>1.99</td>\n",
       "    </tr>\n",
       "    <tr>\n",
       "      <th>11</th>\n",
       "      <td>weekday_sat</td>\n",
       "      <td>1.97</td>\n",
       "    </tr>\n",
       "    <tr>\n",
       "      <th>8</th>\n",
       "      <td>mnth_jan</td>\n",
       "      <td>1.62</td>\n",
       "    </tr>\n",
       "    <tr>\n",
       "      <th>9</th>\n",
       "      <td>mnth_jul</td>\n",
       "      <td>1.59</td>\n",
       "    </tr>\n",
       "    <tr>\n",
       "      <th>13</th>\n",
       "      <td>weathersit_mist_cloudy</td>\n",
       "      <td>1.57</td>\n",
       "    </tr>\n",
       "    <tr>\n",
       "      <th>10</th>\n",
       "      <td>mnth_sep</td>\n",
       "      <td>1.35</td>\n",
       "    </tr>\n",
       "    <tr>\n",
       "      <th>1</th>\n",
       "      <td>holiday</td>\n",
       "      <td>1.17</td>\n",
       "    </tr>\n",
       "    <tr>\n",
       "      <th>12</th>\n",
       "      <td>weathersit_light_snowandrain</td>\n",
       "      <td>1.09</td>\n",
       "    </tr>\n",
       "  </tbody>\n",
       "</table>\n",
       "</div>"
      ],
      "text/plain": [
       "                        Features   VIF\n",
       "3                           temp  7.07\n",
       "2                     workingday  5.24\n",
       "4                      windspeed  4.67\n",
       "5                  season_spring  3.08\n",
       "6                  season_summer  2.33\n",
       "0                             yr  2.08\n",
       "7                  season_winter  1.99\n",
       "11                   weekday_sat  1.97\n",
       "8                       mnth_jan  1.62\n",
       "9                       mnth_jul  1.59\n",
       "13        weathersit_mist_cloudy  1.57\n",
       "10                      mnth_sep  1.35\n",
       "1                        holiday  1.17\n",
       "12  weathersit_light_snowandrain  1.09"
      ]
     },
     "execution_count": 44,
     "metadata": {},
     "output_type": "execute_result"
    }
   ],
   "source": [
    "# Calculate VIF for X_train_lm2\n",
    "get_vif(X_train_lm2)"
   ]
  },
  {
   "cell_type": "markdown",
   "id": "2be40e24",
   "metadata": {},
   "source": [
    "VIF values decreased, but still *temp* and *workingday* have high VIF values.\n",
    "\n",
    "We have **2 variables with a high VIF** (greater than 5). First we'll drop one and then see if it is still necessary dropping the other."
   ]
  },
  {
   "cell_type": "markdown",
   "id": "7647b4a0",
   "metadata": {},
   "source": [
    "### Third model\n",
    "\n",
    "We'll start by dropping the variable with highest p-value, *temp*, and then build a new model."
   ]
  },
  {
   "cell_type": "code",
   "execution_count": 45,
   "id": "a8b3cee6",
   "metadata": {},
   "outputs": [],
   "source": [
    "# Drop mnth_feb variable\n",
    "X_train_lm3 = X_train_lm2.drop(['temp'],axis = 1)\n",
    "\n",
    "# Call function to generate model\n",
    "lm_3 = sm_lr_model(X_train_lm3)"
   ]
  },
  {
   "cell_type": "markdown",
   "id": "f54adcf2",
   "metadata": {},
   "source": [
    "Let's see the **summary of our third linear model**."
   ]
  },
  {
   "cell_type": "code",
   "execution_count": 46,
   "id": "28f27c1a",
   "metadata": {},
   "outputs": [
    {
     "data": {
      "text/html": [
       "<table class=\"simpletable\">\n",
       "<caption>OLS Regression Results</caption>\n",
       "<tr>\n",
       "  <th>Dep. Variable:</th>           <td>cnt</td>       <th>  R-squared:         </th> <td>   0.781</td> \n",
       "</tr>\n",
       "<tr>\n",
       "  <th>Model:</th>                   <td>OLS</td>       <th>  Adj. R-squared:    </th> <td>   0.775</td> \n",
       "</tr>\n",
       "<tr>\n",
       "  <th>Method:</th>             <td>Least Squares</td>  <th>  F-statistic:       </th> <td>   136.0</td> \n",
       "</tr>\n",
       "<tr>\n",
       "  <th>Date:</th>             <td>Mon, 11 Apr 2022</td> <th>  Prob (F-statistic):</th> <td>4.04e-154</td>\n",
       "</tr>\n",
       "<tr>\n",
       "  <th>Time:</th>                 <td>23:30:37</td>     <th>  Log-Likelihood:    </th> <td> -677.10</td> \n",
       "</tr>\n",
       "<tr>\n",
       "  <th>No. Observations:</th>      <td>   510</td>      <th>  AIC:               </th> <td>   1382.</td> \n",
       "</tr>\n",
       "<tr>\n",
       "  <th>Df Residuals:</th>          <td>   496</td>      <th>  BIC:               </th> <td>   1441.</td> \n",
       "</tr>\n",
       "<tr>\n",
       "  <th>Df Model:</th>              <td>    13</td>      <th>                     </th>     <td> </td>    \n",
       "</tr>\n",
       "<tr>\n",
       "  <th>Covariance Type:</th>      <td>nonrobust</td>    <th>                     </th>     <td> </td>    \n",
       "</tr>\n",
       "</table>\n",
       "<table class=\"simpletable\">\n",
       "<tr>\n",
       "                <td></td>                  <th>coef</th>     <th>std err</th>      <th>t</th>      <th>P>|t|</th>  <th>[0.025</th>    <th>0.975]</th>  \n",
       "</tr>\n",
       "<tr>\n",
       "  <th>const</th>                        <td>    4.7575</td> <td>    0.175</td> <td>   27.262</td> <td> 0.000</td> <td>    4.415</td> <td>    5.100</td>\n",
       "</tr>\n",
       "<tr>\n",
       "  <th>yr</th>                           <td>    2.1536</td> <td>    0.082</td> <td>   26.156</td> <td> 0.000</td> <td>    1.992</td> <td>    2.315</td>\n",
       "</tr>\n",
       "<tr>\n",
       "  <th>holiday</th>                      <td>   -0.4964</td> <td>    0.280</td> <td>   -1.771</td> <td> 0.077</td> <td>   -1.047</td> <td>    0.054</td>\n",
       "</tr>\n",
       "<tr>\n",
       "  <th>workingday</th>                   <td>    0.4174</td> <td>    0.120</td> <td>    3.482</td> <td> 0.001</td> <td>    0.182</td> <td>    0.653</td>\n",
       "</tr>\n",
       "<tr>\n",
       "  <th>windspeed</th>                    <td>   -1.6326</td> <td>    0.254</td> <td>   -6.429</td> <td> 0.000</td> <td>   -2.132</td> <td>   -1.134</td>\n",
       "</tr>\n",
       "<tr>\n",
       "  <th>season_spring</th>                <td>   -2.2624</td> <td>    0.156</td> <td>  -14.490</td> <td> 0.000</td> <td>   -2.569</td> <td>   -1.956</td>\n",
       "</tr>\n",
       "<tr>\n",
       "  <th>season_summer</th>                <td>   -0.3825</td> <td>    0.140</td> <td>   -2.729</td> <td> 0.007</td> <td>   -0.658</td> <td>   -0.107</td>\n",
       "</tr>\n",
       "<tr>\n",
       "  <th>season_winter</th>                <td>   -0.6510</td> <td>    0.135</td> <td>   -4.829</td> <td> 0.000</td> <td>   -0.916</td> <td>   -0.386</td>\n",
       "</tr>\n",
       "<tr>\n",
       "  <th>mnth_jan</th>                     <td>   -0.8905</td> <td>    0.174</td> <td>   -5.104</td> <td> 0.000</td> <td>   -1.233</td> <td>   -0.548</td>\n",
       "</tr>\n",
       "<tr>\n",
       "  <th>mnth_jul</th>                     <td>   -0.0857</td> <td>    0.186</td> <td>   -0.461</td> <td> 0.645</td> <td>   -0.451</td> <td>    0.279</td>\n",
       "</tr>\n",
       "<tr>\n",
       "  <th>mnth_sep</th>                     <td>    0.6158</td> <td>    0.171</td> <td>    3.601</td> <td> 0.000</td> <td>    0.280</td> <td>    0.952</td>\n",
       "</tr>\n",
       "<tr>\n",
       "  <th>weekday_sat</th>                  <td>    0.4901</td> <td>    0.151</td> <td>    3.252</td> <td> 0.001</td> <td>    0.194</td> <td>    0.786</td>\n",
       "</tr>\n",
       "<tr>\n",
       "  <th>weathersit_light_snowandrain</th> <td>   -2.6463</td> <td>    0.249</td> <td>  -10.634</td> <td> 0.000</td> <td>   -3.135</td> <td>   -2.157</td>\n",
       "</tr>\n",
       "<tr>\n",
       "  <th>weathersit_mist_cloudy</th>       <td>   -0.7790</td> <td>    0.088</td> <td>   -8.824</td> <td> 0.000</td> <td>   -0.952</td> <td>   -0.606</td>\n",
       "</tr>\n",
       "</table>\n",
       "<table class=\"simpletable\">\n",
       "<tr>\n",
       "  <th>Omnibus:</th>       <td>34.622</td> <th>  Durbin-Watson:     </th> <td>   2.008</td>\n",
       "</tr>\n",
       "<tr>\n",
       "  <th>Prob(Omnibus):</th> <td> 0.000</td> <th>  Jarque-Bera (JB):  </th> <td>  66.832</td>\n",
       "</tr>\n",
       "<tr>\n",
       "  <th>Skew:</th>          <td>-0.419</td> <th>  Prob(JB):          </th> <td>3.07e-15</td>\n",
       "</tr>\n",
       "<tr>\n",
       "  <th>Kurtosis:</th>      <td> 4.563</td> <th>  Cond. No.          </th> <td>    11.1</td>\n",
       "</tr>\n",
       "</table><br/><br/>Notes:<br/>[1] Standard Errors assume that the covariance matrix of the errors is correctly specified."
      ],
      "text/plain": [
       "<class 'statsmodels.iolib.summary.Summary'>\n",
       "\"\"\"\n",
       "                            OLS Regression Results                            \n",
       "==============================================================================\n",
       "Dep. Variable:                    cnt   R-squared:                       0.781\n",
       "Model:                            OLS   Adj. R-squared:                  0.775\n",
       "Method:                 Least Squares   F-statistic:                     136.0\n",
       "Date:                Mon, 11 Apr 2022   Prob (F-statistic):          4.04e-154\n",
       "Time:                        23:30:37   Log-Likelihood:                -677.10\n",
       "No. Observations:                 510   AIC:                             1382.\n",
       "Df Residuals:                     496   BIC:                             1441.\n",
       "Df Model:                          13                                         \n",
       "Covariance Type:            nonrobust                                         \n",
       "================================================================================================\n",
       "                                   coef    std err          t      P>|t|      [0.025      0.975]\n",
       "------------------------------------------------------------------------------------------------\n",
       "const                            4.7575      0.175     27.262      0.000       4.415       5.100\n",
       "yr                               2.1536      0.082     26.156      0.000       1.992       2.315\n",
       "holiday                         -0.4964      0.280     -1.771      0.077      -1.047       0.054\n",
       "workingday                       0.4174      0.120      3.482      0.001       0.182       0.653\n",
       "windspeed                       -1.6326      0.254     -6.429      0.000      -2.132      -1.134\n",
       "season_spring                   -2.2624      0.156    -14.490      0.000      -2.569      -1.956\n",
       "season_summer                   -0.3825      0.140     -2.729      0.007      -0.658      -0.107\n",
       "season_winter                   -0.6510      0.135     -4.829      0.000      -0.916      -0.386\n",
       "mnth_jan                        -0.8905      0.174     -5.104      0.000      -1.233      -0.548\n",
       "mnth_jul                        -0.0857      0.186     -0.461      0.645      -0.451       0.279\n",
       "mnth_sep                         0.6158      0.171      3.601      0.000       0.280       0.952\n",
       "weekday_sat                      0.4901      0.151      3.252      0.001       0.194       0.786\n",
       "weathersit_light_snowandrain    -2.6463      0.249    -10.634      0.000      -3.135      -2.157\n",
       "weathersit_mist_cloudy          -0.7790      0.088     -8.824      0.000      -0.952      -0.606\n",
       "==============================================================================\n",
       "Omnibus:                       34.622   Durbin-Watson:                   2.008\n",
       "Prob(Omnibus):                  0.000   Jarque-Bera (JB):               66.832\n",
       "Skew:                          -0.419   Prob(JB):                     3.07e-15\n",
       "Kurtosis:                       4.563   Cond. No.                         11.1\n",
       "==============================================================================\n",
       "\n",
       "Notes:\n",
       "[1] Standard Errors assume that the covariance matrix of the errors is correctly specified.\n",
       "\"\"\""
      ]
     },
     "execution_count": 46,
     "metadata": {},
     "output_type": "execute_result"
    }
   ],
   "source": [
    "lm_3.summary()"
   ]
  },
  {
   "cell_type": "markdown",
   "id": "7f6230f2",
   "metadata": {},
   "source": [
    "**Most relevant summary statistics**:\n",
    "- $R^{2}$ = 0.781\n",
    "- Adjusted $R^{2}$ = 0.775\n",
    "- F-statistic = 136\n",
    "- P(F-statistic) = 4.04e-154 ~ 0.0\n",
    "\n",
    "After **removing *temp*** the $R^{2}$ and the Adjusted $R^{2}$ **decreased significantly**, so we cannot confirm the variable was not significant for the model.\n",
    "$R^{2}$ and the Adjusted $R^{2}$ have similar values, which means **the model is still significant**.\n",
    "\n",
    "The value of the F-statistic decreased by removing *temp* and the Prob(F) is still almost zero, we can conclude that **the overall model fit is still significant**, but less significant than the last one."
   ]
  },
  {
   "cell_type": "markdown",
   "id": "a24e91e7",
   "metadata": {},
   "source": [
    "By dropping the variable *temp*, **two other variables significantly increased their p-value**, *holiday* and *mnth_jul*, making them considerably greater than 0.05.\n",
    "\n",
    "Let's review **new VIF values**."
   ]
  },
  {
   "cell_type": "code",
   "execution_count": 47,
   "id": "456cf796",
   "metadata": {},
   "outputs": [
    {
     "data": {
      "text/html": [
       "<div>\n",
       "<style scoped>\n",
       "    .dataframe tbody tr th:only-of-type {\n",
       "        vertical-align: middle;\n",
       "    }\n",
       "\n",
       "    .dataframe tbody tr th {\n",
       "        vertical-align: top;\n",
       "    }\n",
       "\n",
       "    .dataframe thead th {\n",
       "        text-align: right;\n",
       "    }\n",
       "</style>\n",
       "<table border=\"1\" class=\"dataframe\">\n",
       "  <thead>\n",
       "    <tr style=\"text-align: right;\">\n",
       "      <th></th>\n",
       "      <th>Features</th>\n",
       "      <th>VIF</th>\n",
       "    </tr>\n",
       "  </thead>\n",
       "  <tbody>\n",
       "    <tr>\n",
       "      <th>3</th>\n",
       "      <td>windspeed</td>\n",
       "      <td>4.27</td>\n",
       "    </tr>\n",
       "    <tr>\n",
       "      <th>2</th>\n",
       "      <td>workingday</td>\n",
       "      <td>3.83</td>\n",
       "    </tr>\n",
       "    <tr>\n",
       "      <th>4</th>\n",
       "      <td>season_spring</td>\n",
       "      <td>2.97</td>\n",
       "    </tr>\n",
       "    <tr>\n",
       "      <th>5</th>\n",
       "      <td>season_summer</td>\n",
       "      <td>2.27</td>\n",
       "    </tr>\n",
       "    <tr>\n",
       "      <th>6</th>\n",
       "      <td>season_winter</td>\n",
       "      <td>1.99</td>\n",
       "    </tr>\n",
       "    <tr>\n",
       "      <th>0</th>\n",
       "      <td>yr</td>\n",
       "      <td>1.91</td>\n",
       "    </tr>\n",
       "    <tr>\n",
       "      <th>10</th>\n",
       "      <td>weekday_sat</td>\n",
       "      <td>1.69</td>\n",
       "    </tr>\n",
       "    <tr>\n",
       "      <th>7</th>\n",
       "      <td>mnth_jan</td>\n",
       "      <td>1.60</td>\n",
       "    </tr>\n",
       "    <tr>\n",
       "      <th>12</th>\n",
       "      <td>weathersit_mist_cloudy</td>\n",
       "      <td>1.56</td>\n",
       "    </tr>\n",
       "    <tr>\n",
       "      <th>8</th>\n",
       "      <td>mnth_jul</td>\n",
       "      <td>1.30</td>\n",
       "    </tr>\n",
       "    <tr>\n",
       "      <th>9</th>\n",
       "      <td>mnth_sep</td>\n",
       "      <td>1.25</td>\n",
       "    </tr>\n",
       "    <tr>\n",
       "      <th>1</th>\n",
       "      <td>holiday</td>\n",
       "      <td>1.13</td>\n",
       "    </tr>\n",
       "    <tr>\n",
       "      <th>11</th>\n",
       "      <td>weathersit_light_snowandrain</td>\n",
       "      <td>1.08</td>\n",
       "    </tr>\n",
       "  </tbody>\n",
       "</table>\n",
       "</div>"
      ],
      "text/plain": [
       "                        Features   VIF\n",
       "3                      windspeed  4.27\n",
       "2                     workingday  3.83\n",
       "4                  season_spring  2.97\n",
       "5                  season_summer  2.27\n",
       "6                  season_winter  1.99\n",
       "0                             yr  1.91\n",
       "10                   weekday_sat  1.69\n",
       "7                       mnth_jan  1.60\n",
       "12        weathersit_mist_cloudy  1.56\n",
       "8                       mnth_jul  1.30\n",
       "9                       mnth_sep  1.25\n",
       "1                        holiday  1.13\n",
       "11  weathersit_light_snowandrain  1.08"
      ]
     },
     "execution_count": 47,
     "metadata": {},
     "output_type": "execute_result"
    }
   ],
   "source": [
    "# Calculate VIF for X_train_lm3\n",
    "get_vif(X_train_lm3)"
   ]
  },
  {
   "cell_type": "markdown",
   "id": "a662ec05",
   "metadata": {},
   "source": [
    "VIF values decreased, having **all now smaller than 5**. \n",
    "\n",
    "But as per the high p-values, we can say that **dropping *temp* variable was not a good decision** so we'll stay so far with second model."
   ]
  },
  {
   "cell_type": "markdown",
   "id": "fb937e18",
   "metadata": {},
   "source": [
    "### Fourth model\n",
    "\n",
    "We'll start from second model, by dropping the variable with highest VIF that is not *temp*, *workingday*, and then build a new model."
   ]
  },
  {
   "cell_type": "code",
   "execution_count": 48,
   "id": "c46b7bab",
   "metadata": {},
   "outputs": [],
   "source": [
    "# Drop mnth_feb variable\n",
    "X_train_lm4 = X_train_lm2.drop(['workingday'],axis = 1)\n",
    "\n",
    "# Call function to generate model\n",
    "lm_4 = sm_lr_model(X_train_lm4)"
   ]
  },
  {
   "cell_type": "markdown",
   "id": "17d46d04",
   "metadata": {},
   "source": [
    "Let's see the **summary of our fourth linear model**."
   ]
  },
  {
   "cell_type": "code",
   "execution_count": 49,
   "id": "bab190aa",
   "metadata": {},
   "outputs": [
    {
     "data": {
      "text/html": [
       "<table class=\"simpletable\">\n",
       "<caption>OLS Regression Results</caption>\n",
       "<tr>\n",
       "  <th>Dep. Variable:</th>           <td>cnt</td>       <th>  R-squared:         </th> <td>   0.838</td> \n",
       "</tr>\n",
       "<tr>\n",
       "  <th>Model:</th>                   <td>OLS</td>       <th>  Adj. R-squared:    </th> <td>   0.834</td> \n",
       "</tr>\n",
       "<tr>\n",
       "  <th>Method:</th>             <td>Least Squares</td>  <th>  F-statistic:       </th> <td>   197.8</td> \n",
       "</tr>\n",
       "<tr>\n",
       "  <th>Date:</th>             <td>Mon, 11 Apr 2022</td> <th>  Prob (F-statistic):</th> <td>1.21e-186</td>\n",
       "</tr>\n",
       "<tr>\n",
       "  <th>Time:</th>                 <td>23:30:37</td>     <th>  Log-Likelihood:    </th> <td> -599.71</td> \n",
       "</tr>\n",
       "<tr>\n",
       "  <th>No. Observations:</th>      <td>   510</td>      <th>  AIC:               </th> <td>   1227.</td> \n",
       "</tr>\n",
       "<tr>\n",
       "  <th>Df Residuals:</th>          <td>   496</td>      <th>  BIC:               </th> <td>   1287.</td> \n",
       "</tr>\n",
       "<tr>\n",
       "  <th>Df Model:</th>              <td>    13</td>      <th>                     </th>     <td> </td>    \n",
       "</tr>\n",
       "<tr>\n",
       "  <th>Covariance Type:</th>      <td>nonrobust</td>    <th>                     </th>     <td> </td>    \n",
       "</tr>\n",
       "</table>\n",
       "<table class=\"simpletable\">\n",
       "<tr>\n",
       "                <td></td>                  <th>coef</th>     <th>std err</th>      <th>t</th>      <th>P>|t|</th>  <th>[0.025</th>    <th>0.975]</th>  \n",
       "</tr>\n",
       "<tr>\n",
       "  <th>const</th>                        <td>    1.8655</td> <td>    0.264</td> <td>    7.069</td> <td> 0.000</td> <td>    1.347</td> <td>    2.384</td>\n",
       "</tr>\n",
       "<tr>\n",
       "  <th>yr</th>                           <td>    2.0394</td> <td>    0.071</td> <td>   28.628</td> <td> 0.000</td> <td>    1.899</td> <td>    2.179</td>\n",
       "</tr>\n",
       "<tr>\n",
       "  <th>holiday</th>                      <td>   -0.8164</td> <td>    0.226</td> <td>   -3.614</td> <td> 0.000</td> <td>   -1.260</td> <td>   -0.373</td>\n",
       "</tr>\n",
       "<tr>\n",
       "  <th>temp</th>                         <td>    4.1206</td> <td>    0.297</td> <td>   13.868</td> <td> 0.000</td> <td>    3.537</td> <td>    4.704</td>\n",
       "</tr>\n",
       "<tr>\n",
       "  <th>windspeed</th>                    <td>   -1.3651</td> <td>    0.219</td> <td>   -6.231</td> <td> 0.000</td> <td>   -1.796</td> <td>   -0.935</td>\n",
       "</tr>\n",
       "<tr>\n",
       "  <th>season_spring</th>                <td>   -0.5328</td> <td>    0.184</td> <td>   -2.895</td> <td> 0.004</td> <td>   -0.894</td> <td>   -0.171</td>\n",
       "</tr>\n",
       "<tr>\n",
       "  <th>season_summer</th>                <td>    0.3693</td> <td>    0.132</td> <td>    2.791</td> <td> 0.005</td> <td>    0.109</td> <td>    0.629</td>\n",
       "</tr>\n",
       "<tr>\n",
       "  <th>season_winter</th>                <td>    0.6684</td> <td>    0.151</td> <td>    4.425</td> <td> 0.000</td> <td>    0.372</td> <td>    0.965</td>\n",
       "</tr>\n",
       "<tr>\n",
       "  <th>mnth_jan</th>                     <td>   -0.3328</td> <td>    0.155</td> <td>   -2.146</td> <td> 0.032</td> <td>   -0.638</td> <td>   -0.028</td>\n",
       "</tr>\n",
       "<tr>\n",
       "  <th>mnth_jul</th>                     <td>   -0.4448</td> <td>    0.161</td> <td>   -2.758</td> <td> 0.006</td> <td>   -0.762</td> <td>   -0.128</td>\n",
       "</tr>\n",
       "<tr>\n",
       "  <th>mnth_sep</th>                     <td>    0.6609</td> <td>    0.147</td> <td>    4.498</td> <td> 0.000</td> <td>    0.372</td> <td>    0.950</td>\n",
       "</tr>\n",
       "<tr>\n",
       "  <th>weekday_sat</th>                  <td>    0.1750</td> <td>    0.098</td> <td>    1.788</td> <td> 0.074</td> <td>   -0.017</td> <td>    0.367</td>\n",
       "</tr>\n",
       "<tr>\n",
       "  <th>weathersit_light_snowandrain</th> <td>   -2.4934</td> <td>    0.214</td> <td>  -11.668</td> <td> 0.000</td> <td>   -2.913</td> <td>   -2.074</td>\n",
       "</tr>\n",
       "<tr>\n",
       "  <th>weathersit_mist_cloudy</th>       <td>   -0.7022</td> <td>    0.076</td> <td>   -9.256</td> <td> 0.000</td> <td>   -0.851</td> <td>   -0.553</td>\n",
       "</tr>\n",
       "</table>\n",
       "<table class=\"simpletable\">\n",
       "<tr>\n",
       "  <th>Omnibus:</th>       <td>66.334</td> <th>  Durbin-Watson:     </th> <td>   2.048</td>\n",
       "</tr>\n",
       "<tr>\n",
       "  <th>Prob(Omnibus):</th> <td> 0.000</td> <th>  Jarque-Bera (JB):  </th> <td> 143.828</td>\n",
       "</tr>\n",
       "<tr>\n",
       "  <th>Skew:</th>          <td>-0.715</td> <th>  Prob(JB):          </th> <td>5.86e-32</td>\n",
       "</tr>\n",
       "<tr>\n",
       "  <th>Kurtosis:</th>      <td> 5.174</td> <th>  Cond. No.          </th> <td>    17.9</td>\n",
       "</tr>\n",
       "</table><br/><br/>Notes:<br/>[1] Standard Errors assume that the covariance matrix of the errors is correctly specified."
      ],
      "text/plain": [
       "<class 'statsmodels.iolib.summary.Summary'>\n",
       "\"\"\"\n",
       "                            OLS Regression Results                            \n",
       "==============================================================================\n",
       "Dep. Variable:                    cnt   R-squared:                       0.838\n",
       "Model:                            OLS   Adj. R-squared:                  0.834\n",
       "Method:                 Least Squares   F-statistic:                     197.8\n",
       "Date:                Mon, 11 Apr 2022   Prob (F-statistic):          1.21e-186\n",
       "Time:                        23:30:37   Log-Likelihood:                -599.71\n",
       "No. Observations:                 510   AIC:                             1227.\n",
       "Df Residuals:                     496   BIC:                             1287.\n",
       "Df Model:                          13                                         \n",
       "Covariance Type:            nonrobust                                         \n",
       "================================================================================================\n",
       "                                   coef    std err          t      P>|t|      [0.025      0.975]\n",
       "------------------------------------------------------------------------------------------------\n",
       "const                            1.8655      0.264      7.069      0.000       1.347       2.384\n",
       "yr                               2.0394      0.071     28.628      0.000       1.899       2.179\n",
       "holiday                         -0.8164      0.226     -3.614      0.000      -1.260      -0.373\n",
       "temp                             4.1206      0.297     13.868      0.000       3.537       4.704\n",
       "windspeed                       -1.3651      0.219     -6.231      0.000      -1.796      -0.935\n",
       "season_spring                   -0.5328      0.184     -2.895      0.004      -0.894      -0.171\n",
       "season_summer                    0.3693      0.132      2.791      0.005       0.109       0.629\n",
       "season_winter                    0.6684      0.151      4.425      0.000       0.372       0.965\n",
       "mnth_jan                        -0.3328      0.155     -2.146      0.032      -0.638      -0.028\n",
       "mnth_jul                        -0.4448      0.161     -2.758      0.006      -0.762      -0.128\n",
       "mnth_sep                         0.6609      0.147      4.498      0.000       0.372       0.950\n",
       "weekday_sat                      0.1750      0.098      1.788      0.074      -0.017       0.367\n",
       "weathersit_light_snowandrain    -2.4934      0.214    -11.668      0.000      -2.913      -2.074\n",
       "weathersit_mist_cloudy          -0.7022      0.076     -9.256      0.000      -0.851      -0.553\n",
       "==============================================================================\n",
       "Omnibus:                       66.334   Durbin-Watson:                   2.048\n",
       "Prob(Omnibus):                  0.000   Jarque-Bera (JB):              143.828\n",
       "Skew:                          -0.715   Prob(JB):                     5.86e-32\n",
       "Kurtosis:                       5.174   Cond. No.                         17.9\n",
       "==============================================================================\n",
       "\n",
       "Notes:\n",
       "[1] Standard Errors assume that the covariance matrix of the errors is correctly specified.\n",
       "\"\"\""
      ]
     },
     "execution_count": 49,
     "metadata": {},
     "output_type": "execute_result"
    }
   ],
   "source": [
    "lm_4.summary()"
   ]
  },
  {
   "cell_type": "markdown",
   "id": "c37ea369",
   "metadata": {},
   "source": [
    "**Most relevant summary statistics**:\n",
    "- $R^{2}$ = 0.838\n",
    "- Adjusted $R^{2}$ = 0.834\n",
    "- F-statistic = 197.8\n",
    "- P(F-statistic) = 1.21e-186 ~ 0.0\n",
    "\n",
    "After **removing *workingday*** the $R^{2}$ and the Adjusted $R^{2}$ **values remained almost the same**.\n",
    "$R^{2}$ and the Adjusted $R^{2}$ have similar values, which means **the model is still significant**.\n",
    "\n",
    "The value of the F-statistic increased by removing *workingday* and the Prob(F) decreased and hence, we can conclude that **the overall model fit is still significant**."
   ]
  },
  {
   "cell_type": "markdown",
   "id": "e9509ee8",
   "metadata": {},
   "source": [
    "We can see that in general all p-values increased, and *weekday_sat* now has a p-value greater than 0.05\n",
    "\n",
    "Let's review **new VIF values**."
   ]
  },
  {
   "cell_type": "code",
   "execution_count": 50,
   "id": "a5e078aa",
   "metadata": {},
   "outputs": [
    {
     "data": {
      "text/html": [
       "<div>\n",
       "<style scoped>\n",
       "    .dataframe tbody tr th:only-of-type {\n",
       "        vertical-align: middle;\n",
       "    }\n",
       "\n",
       "    .dataframe tbody tr th {\n",
       "        vertical-align: top;\n",
       "    }\n",
       "\n",
       "    .dataframe thead th {\n",
       "        text-align: right;\n",
       "    }\n",
       "</style>\n",
       "<table border=\"1\" class=\"dataframe\">\n",
       "  <thead>\n",
       "    <tr style=\"text-align: right;\">\n",
       "      <th></th>\n",
       "      <th>Features</th>\n",
       "      <th>VIF</th>\n",
       "    </tr>\n",
       "  </thead>\n",
       "  <tbody>\n",
       "    <tr>\n",
       "      <th>2</th>\n",
       "      <td>temp</td>\n",
       "      <td>5.16</td>\n",
       "    </tr>\n",
       "    <tr>\n",
       "      <th>3</th>\n",
       "      <td>windspeed</td>\n",
       "      <td>4.64</td>\n",
       "    </tr>\n",
       "    <tr>\n",
       "      <th>4</th>\n",
       "      <td>season_spring</td>\n",
       "      <td>2.76</td>\n",
       "    </tr>\n",
       "    <tr>\n",
       "      <th>5</th>\n",
       "      <td>season_summer</td>\n",
       "      <td>2.23</td>\n",
       "    </tr>\n",
       "    <tr>\n",
       "      <th>0</th>\n",
       "      <td>yr</td>\n",
       "      <td>2.07</td>\n",
       "    </tr>\n",
       "    <tr>\n",
       "      <th>6</th>\n",
       "      <td>season_winter</td>\n",
       "      <td>1.80</td>\n",
       "    </tr>\n",
       "    <tr>\n",
       "      <th>7</th>\n",
       "      <td>mnth_jan</td>\n",
       "      <td>1.61</td>\n",
       "    </tr>\n",
       "    <tr>\n",
       "      <th>8</th>\n",
       "      <td>mnth_jul</td>\n",
       "      <td>1.59</td>\n",
       "    </tr>\n",
       "    <tr>\n",
       "      <th>12</th>\n",
       "      <td>weathersit_mist_cloudy</td>\n",
       "      <td>1.56</td>\n",
       "    </tr>\n",
       "    <tr>\n",
       "      <th>9</th>\n",
       "      <td>mnth_sep</td>\n",
       "      <td>1.34</td>\n",
       "    </tr>\n",
       "    <tr>\n",
       "      <th>10</th>\n",
       "      <td>weekday_sat</td>\n",
       "      <td>1.19</td>\n",
       "    </tr>\n",
       "    <tr>\n",
       "      <th>11</th>\n",
       "      <td>weathersit_light_snowandrain</td>\n",
       "      <td>1.08</td>\n",
       "    </tr>\n",
       "    <tr>\n",
       "      <th>1</th>\n",
       "      <td>holiday</td>\n",
       "      <td>1.05</td>\n",
       "    </tr>\n",
       "  </tbody>\n",
       "</table>\n",
       "</div>"
      ],
      "text/plain": [
       "                        Features   VIF\n",
       "2                           temp  5.16\n",
       "3                      windspeed  4.64\n",
       "4                  season_spring  2.76\n",
       "5                  season_summer  2.23\n",
       "0                             yr  2.07\n",
       "6                  season_winter  1.80\n",
       "7                       mnth_jan  1.61\n",
       "8                       mnth_jul  1.59\n",
       "12        weathersit_mist_cloudy  1.56\n",
       "9                       mnth_sep  1.34\n",
       "10                   weekday_sat  1.19\n",
       "11  weathersit_light_snowandrain  1.08\n",
       "1                        holiday  1.05"
      ]
     },
     "execution_count": 50,
     "metadata": {},
     "output_type": "execute_result"
    }
   ],
   "source": [
    "# Calculate VIF for X_train_lm4\n",
    "get_vif(X_train_lm4)"
   ]
  },
  {
   "cell_type": "markdown",
   "id": "c2891af0",
   "metadata": {},
   "source": [
    "We can see that for some variables the p-value and VIF value increased, so **dropping workingday variable was not a good decision**.\n",
    "\n",
    "We'll stay with second model as final one."
   ]
  },
  {
   "cell_type": "markdown",
   "id": "3be5ae5c",
   "metadata": {},
   "source": [
    "### Final model\n",
    "We have chosen **model 2 as the final one**, which uses 14 variables. Let's print its variables and coefficients."
   ]
  },
  {
   "cell_type": "code",
   "execution_count": 51,
   "id": "34e302ae",
   "metadata": {},
   "outputs": [
    {
     "data": {
      "text/html": [
       "<div>\n",
       "<style scoped>\n",
       "    .dataframe tbody tr th:only-of-type {\n",
       "        vertical-align: middle;\n",
       "    }\n",
       "\n",
       "    .dataframe tbody tr th {\n",
       "        vertical-align: top;\n",
       "    }\n",
       "\n",
       "    .dataframe thead th {\n",
       "        text-align: right;\n",
       "    }\n",
       "</style>\n",
       "<table border=\"1\" class=\"dataframe\">\n",
       "  <thead>\n",
       "    <tr style=\"text-align: right;\">\n",
       "      <th></th>\n",
       "      <th>Coefficient</th>\n",
       "    </tr>\n",
       "  </thead>\n",
       "  <tbody>\n",
       "    <tr>\n",
       "      <th>const</th>\n",
       "      <td>1.531481</td>\n",
       "    </tr>\n",
       "    <tr>\n",
       "      <th>yr</th>\n",
       "      <td>2.037067</td>\n",
       "    </tr>\n",
       "    <tr>\n",
       "      <th>holiday</th>\n",
       "      <td>-0.488478</td>\n",
       "    </tr>\n",
       "    <tr>\n",
       "      <th>workingday</th>\n",
       "      <td>0.404194</td>\n",
       "    </tr>\n",
       "    <tr>\n",
       "      <th>temp</th>\n",
       "      <td>4.109776</td>\n",
       "    </tr>\n",
       "    <tr>\n",
       "      <th>windspeed</th>\n",
       "      <td>-1.358250</td>\n",
       "    </tr>\n",
       "    <tr>\n",
       "      <th>season_spring</th>\n",
       "      <td>-0.518947</td>\n",
       "    </tr>\n",
       "    <tr>\n",
       "      <th>season_summer</th>\n",
       "      <td>0.376818</td>\n",
       "    </tr>\n",
       "    <tr>\n",
       "      <th>season_winter</th>\n",
       "      <td>0.692745</td>\n",
       "    </tr>\n",
       "    <tr>\n",
       "      <th>mnth_jan</th>\n",
       "      <td>-0.338524</td>\n",
       "    </tr>\n",
       "    <tr>\n",
       "      <th>mnth_jul</th>\n",
       "      <td>-0.419144</td>\n",
       "    </tr>\n",
       "    <tr>\n",
       "      <th>mnth_sep</th>\n",
       "      <td>0.654665</td>\n",
       "    </tr>\n",
       "    <tr>\n",
       "      <th>weekday_sat</th>\n",
       "      <td>0.507904</td>\n",
       "    </tr>\n",
       "    <tr>\n",
       "      <th>weathersit_light_snowandrain</th>\n",
       "      <td>-2.535693</td>\n",
       "    </tr>\n",
       "    <tr>\n",
       "      <th>weathersit_mist_cloudy</th>\n",
       "      <td>-0.718143</td>\n",
       "    </tr>\n",
       "  </tbody>\n",
       "</table>\n",
       "</div>"
      ],
      "text/plain": [
       "                              Coefficient\n",
       "const                            1.531481\n",
       "yr                               2.037067\n",
       "holiday                         -0.488478\n",
       "workingday                       0.404194\n",
       "temp                             4.109776\n",
       "windspeed                       -1.358250\n",
       "season_spring                   -0.518947\n",
       "season_summer                    0.376818\n",
       "season_winter                    0.692745\n",
       "mnth_jan                        -0.338524\n",
       "mnth_jul                        -0.419144\n",
       "mnth_sep                         0.654665\n",
       "weekday_sat                      0.507904\n",
       "weathersit_light_snowandrain    -2.535693\n",
       "weathersit_mist_cloudy          -0.718143"
      ]
     },
     "execution_count": 51,
     "metadata": {},
     "output_type": "execute_result"
    }
   ],
   "source": [
    "# Copy model to final model variable\n",
    "lm_final = lm_2\n",
    "\n",
    "# Get list of model variables\n",
    "final_vars = list(lm_final.params.index)\n",
    "\n",
    "# Get list of coefficients\n",
    "final_coeffs = list(lm_final.params)\n",
    "\n",
    "df_final_vars = pd.DataFrame(final_coeffs, index=final_vars, columns=['Coefficient'])\n",
    "df_final_vars"
   ]
  },
  {
   "cell_type": "markdown",
   "id": "e39d96fe",
   "metadata": {},
   "source": [
    "## Residual analysis on the train data\n",
    "So, now to check if the error terms are also normally distributed (which is infact, one of the major assumptions of linear regression), let us plot the histogram of the error terms and see what it looks like."
   ]
  },
  {
   "cell_type": "code",
   "execution_count": 52,
   "id": "b15df393",
   "metadata": {},
   "outputs": [
    {
     "data": {
      "image/png": "[encoded data removed]",
      "text/plain": [
       "<Figure size 432x288 with 1 Axes>"
      ]
     },
     "metadata": {
      "needs_background": "light"
     },
     "output_type": "display_data"
    }
   ],
   "source": [
    "# Add constant to train set\n",
    "X_train_lm2 = sm.add_constant(X_train_lm2)\n",
    "\n",
    "# Predict for train set\n",
    "y_train_pred = lm_final.predict(X_train_lm2)\n",
    "\n",
    "# Plot the histogram of the error terms\n",
    "fig = plt.figure()\n",
    "residuals = y_train - y_train_pred\n",
    "sns.distplot(residuals)\n",
    "fig.suptitle('Error Terms distribution', fontsize = 14)\n",
    "plt.xlabel('Errors', fontsize = 10)\n",
    "plt.show()"
   ]
  },
  {
   "cell_type": "markdown",
   "id": "c9aa0fce",
   "metadata": {},
   "source": [
    "We can see that the **errors have a normal distribution**, with median and mean centered at value zero. \n",
    "\n",
    "And from below graph we can see the **errors** do not follow any pattern, they **are independent of each other**.\n",
    "\n",
    "With these information **we can rely in the significance of the model variables coefficients**."
   ]
  },
  {
   "cell_type": "code",
   "execution_count": 53,
   "id": "b80b45da",
   "metadata": {},
   "outputs": [
    {
     "data": {
      "image/png": "[encoded data removed]",
      "text/plain": [
       "<Figure size 576x288 with 1 Axes>"
      ]
     },
     "metadata": {
      "needs_background": "light"
     },
     "output_type": "display_data"
    }
   ],
   "source": [
    "# Plot error terms\n",
    "fig = plt.figure(figsize=(8,4))\n",
    "plt.scatter(y_train,residuals)\n",
    "fig.suptitle('Error Terms independency', fontsize=14)\n",
    "plt.xlabel('Y_train_pred', fontsize=10)\n",
    "plt.ylabel('Residual', fontsize=10) \n",
    "plt.show()"
   ]
  },
  {
   "cell_type": "markdown",
   "id": "d695b349",
   "metadata": {},
   "source": [
    "## Making predictions\n",
    "\n",
    "It is time now to apply the model to the test set to make predictions.\n",
    "\n",
    "Remember we already have formatted the categorical variables."
   ]
  },
  {
   "cell_type": "markdown",
   "id": "b72152cb",
   "metadata": {},
   "source": [
    "### Applying the scaling on the test sets\n",
    "Let's rescale numerical variables in test set."
   ]
  },
  {
   "cell_type": "code",
   "execution_count": 55,
   "id": "a3cda65e",
   "metadata": {},
   "outputs": [
    {
     "data": {
      "text/html": [
       "<div>\n",
       "<style scoped>\n",
       "    .dataframe tbody tr th:only-of-type {\n",
       "        vertical-align: middle;\n",
       "    }\n",
       "\n",
       "    .dataframe tbody tr th {\n",
       "        vertical-align: top;\n",
       "    }\n",
       "\n",
       "    .dataframe thead th {\n",
       "        text-align: right;\n",
       "    }\n",
       "</style>\n",
       "<table border=\"1\" class=\"dataframe\">\n",
       "  <thead>\n",
       "    <tr style=\"text-align: right;\">\n",
       "      <th></th>\n",
       "      <th>yr</th>\n",
       "      <th>holiday</th>\n",
       "      <th>workingday</th>\n",
       "      <th>temp</th>\n",
       "      <th>hum</th>\n",
       "      <th>windspeed</th>\n",
       "      <th>cnt</th>\n",
       "      <th>season_spring</th>\n",
       "      <th>season_summer</th>\n",
       "      <th>season_winter</th>\n",
       "      <th>...</th>\n",
       "      <th>mnth_oct</th>\n",
       "      <th>mnth_sep</th>\n",
       "      <th>weekday_mon</th>\n",
       "      <th>weekday_sat</th>\n",
       "      <th>weekday_sun</th>\n",
       "      <th>weekday_thu</th>\n",
       "      <th>weekday_tue</th>\n",
       "      <th>weekday_wed</th>\n",
       "      <th>weathersit_light_snowandrain</th>\n",
       "      <th>weathersit_mist_cloudy</th>\n",
       "    </tr>\n",
       "  </thead>\n",
       "  <tbody>\n",
       "    <tr>\n",
       "      <th>184</th>\n",
       "      <td>0</td>\n",
       "      <td>1</td>\n",
       "      <td>0</td>\n",
       "      <td>0.831783</td>\n",
       "      <td>0.657364</td>\n",
       "      <td>0.084219</td>\n",
       "      <td>6.043</td>\n",
       "      <td>0</td>\n",
       "      <td>0</td>\n",
       "      <td>0</td>\n",
       "      <td>...</td>\n",
       "      <td>0</td>\n",
       "      <td>0</td>\n",
       "      <td>1</td>\n",
       "      <td>0</td>\n",
       "      <td>0</td>\n",
       "      <td>0</td>\n",
       "      <td>0</td>\n",
       "      <td>0</td>\n",
       "      <td>0</td>\n",
       "      <td>1</td>\n",
       "    </tr>\n",
       "    <tr>\n",
       "      <th>535</th>\n",
       "      <td>1</td>\n",
       "      <td>0</td>\n",
       "      <td>1</td>\n",
       "      <td>0.901354</td>\n",
       "      <td>0.610133</td>\n",
       "      <td>0.153728</td>\n",
       "      <td>6.211</td>\n",
       "      <td>0</td>\n",
       "      <td>1</td>\n",
       "      <td>0</td>\n",
       "      <td>...</td>\n",
       "      <td>0</td>\n",
       "      <td>0</td>\n",
       "      <td>0</td>\n",
       "      <td>0</td>\n",
       "      <td>0</td>\n",
       "      <td>0</td>\n",
       "      <td>0</td>\n",
       "      <td>1</td>\n",
       "      <td>0</td>\n",
       "      <td>0</td>\n",
       "    </tr>\n",
       "    <tr>\n",
       "      <th>299</th>\n",
       "      <td>0</td>\n",
       "      <td>0</td>\n",
       "      <td>1</td>\n",
       "      <td>0.511964</td>\n",
       "      <td>0.837699</td>\n",
       "      <td>0.334206</td>\n",
       "      <td>2.659</td>\n",
       "      <td>0</td>\n",
       "      <td>0</td>\n",
       "      <td>1</td>\n",
       "      <td>...</td>\n",
       "      <td>1</td>\n",
       "      <td>0</td>\n",
       "      <td>0</td>\n",
       "      <td>0</td>\n",
       "      <td>0</td>\n",
       "      <td>1</td>\n",
       "      <td>0</td>\n",
       "      <td>0</td>\n",
       "      <td>0</td>\n",
       "      <td>1</td>\n",
       "    </tr>\n",
       "    <tr>\n",
       "      <th>221</th>\n",
       "      <td>0</td>\n",
       "      <td>0</td>\n",
       "      <td>1</td>\n",
       "      <td>0.881625</td>\n",
       "      <td>0.437098</td>\n",
       "      <td>0.339570</td>\n",
       "      <td>4.780</td>\n",
       "      <td>0</td>\n",
       "      <td>0</td>\n",
       "      <td>0</td>\n",
       "      <td>...</td>\n",
       "      <td>0</td>\n",
       "      <td>0</td>\n",
       "      <td>0</td>\n",
       "      <td>0</td>\n",
       "      <td>0</td>\n",
       "      <td>0</td>\n",
       "      <td>0</td>\n",
       "      <td>1</td>\n",
       "      <td>0</td>\n",
       "      <td>0</td>\n",
       "    </tr>\n",
       "    <tr>\n",
       "      <th>152</th>\n",
       "      <td>0</td>\n",
       "      <td>0</td>\n",
       "      <td>1</td>\n",
       "      <td>0.817246</td>\n",
       "      <td>0.314298</td>\n",
       "      <td>0.537414</td>\n",
       "      <td>4.968</td>\n",
       "      <td>0</td>\n",
       "      <td>1</td>\n",
       "      <td>0</td>\n",
       "      <td>...</td>\n",
       "      <td>0</td>\n",
       "      <td>0</td>\n",
       "      <td>0</td>\n",
       "      <td>0</td>\n",
       "      <td>0</td>\n",
       "      <td>1</td>\n",
       "      <td>0</td>\n",
       "      <td>0</td>\n",
       "      <td>0</td>\n",
       "      <td>0</td>\n",
       "    </tr>\n",
       "  </tbody>\n",
       "</table>\n",
       "<p>5 rows × 29 columns</p>\n",
       "</div>"
      ],
      "text/plain": [
       "     yr  holiday  workingday      temp       hum  windspeed    cnt  \\\n",
       "184   0        1           0  0.831783  0.657364   0.084219  6.043   \n",
       "535   1        0           1  0.901354  0.610133   0.153728  6.211   \n",
       "299   0        0           1  0.511964  0.837699   0.334206  2.659   \n",
       "221   0        0           1  0.881625  0.437098   0.339570  4.780   \n",
       "152   0        0           1  0.817246  0.314298   0.537414  4.968   \n",
       "\n",
       "     season_spring  season_summer  season_winter  ...  mnth_oct  mnth_sep  \\\n",
       "184              0              0              0  ...         0         0   \n",
       "535              0              1              0  ...         0         0   \n",
       "299              0              0              1  ...         1         0   \n",
       "221              0              0              0  ...         0         0   \n",
       "152              0              1              0  ...         0         0   \n",
       "\n",
       "     weekday_mon  weekday_sat  weekday_sun  weekday_thu  weekday_tue  \\\n",
       "184            1            0            0            0            0   \n",
       "535            0            0            0            0            0   \n",
       "299            0            0            0            1            0   \n",
       "221            0            0            0            0            0   \n",
       "152            0            0            0            1            0   \n",
       "\n",
       "     weekday_wed  weathersit_light_snowandrain  weathersit_mist_cloudy  \n",
       "184            0                             0                       1  \n",
       "535            1                             0                       0  \n",
       "299            0                             0                       1  \n",
       "221            1                             0                       0  \n",
       "152            0                             0                       0  \n",
       "\n",
       "[5 rows x 29 columns]"
      ]
     },
     "execution_count": 55,
     "metadata": {},
     "output_type": "execute_result"
    }
   ],
   "source": [
    "# Apply scaler() to the numerical columns\n",
    "num_vars = ['temp', 'hum', 'windspeed']\n",
    "\n",
    "df_test[num_vars] = scaler.transform(df_test[num_vars])\n",
    "df_test.head()"
   ]
  },
  {
   "cell_type": "markdown",
   "id": "6c29f96c",
   "metadata": {},
   "source": [
    "Now we select the final model variables from the train set. "
   ]
  },
  {
   "cell_type": "code",
   "execution_count": 56,
   "id": "898e3926",
   "metadata": {},
   "outputs": [],
   "source": [
    "# Remove cnt column from final variables list\n",
    "final_vars.remove('const')\n",
    "final_vars.append('cnt')"
   ]
  },
  {
   "cell_type": "code",
   "execution_count": 57,
   "id": "6184f3e0",
   "metadata": {},
   "outputs": [
    {
     "data": {
      "text/html": [
       "<div>\n",
       "<style scoped>\n",
       "    .dataframe tbody tr th:only-of-type {\n",
       "        vertical-align: middle;\n",
       "    }\n",
       "\n",
       "    .dataframe tbody tr th {\n",
       "        vertical-align: top;\n",
       "    }\n",
       "\n",
       "    .dataframe thead th {\n",
       "        text-align: right;\n",
       "    }\n",
       "</style>\n",
       "<table border=\"1\" class=\"dataframe\">\n",
       "  <thead>\n",
       "    <tr style=\"text-align: right;\">\n",
       "      <th></th>\n",
       "      <th>yr</th>\n",
       "      <th>holiday</th>\n",
       "      <th>workingday</th>\n",
       "      <th>temp</th>\n",
       "      <th>windspeed</th>\n",
       "      <th>season_spring</th>\n",
       "      <th>season_summer</th>\n",
       "      <th>season_winter</th>\n",
       "      <th>mnth_jan</th>\n",
       "      <th>mnth_jul</th>\n",
       "      <th>mnth_sep</th>\n",
       "      <th>weekday_sat</th>\n",
       "      <th>weathersit_light_snowandrain</th>\n",
       "      <th>weathersit_mist_cloudy</th>\n",
       "      <th>cnt</th>\n",
       "    </tr>\n",
       "  </thead>\n",
       "  <tbody>\n",
       "    <tr>\n",
       "      <th>184</th>\n",
       "      <td>0</td>\n",
       "      <td>1</td>\n",
       "      <td>0</td>\n",
       "      <td>0.831783</td>\n",
       "      <td>0.084219</td>\n",
       "      <td>0</td>\n",
       "      <td>0</td>\n",
       "      <td>0</td>\n",
       "      <td>0</td>\n",
       "      <td>1</td>\n",
       "      <td>0</td>\n",
       "      <td>0</td>\n",
       "      <td>0</td>\n",
       "      <td>1</td>\n",
       "      <td>6.043</td>\n",
       "    </tr>\n",
       "    <tr>\n",
       "      <th>535</th>\n",
       "      <td>1</td>\n",
       "      <td>0</td>\n",
       "      <td>1</td>\n",
       "      <td>0.901354</td>\n",
       "      <td>0.153728</td>\n",
       "      <td>0</td>\n",
       "      <td>1</td>\n",
       "      <td>0</td>\n",
       "      <td>0</td>\n",
       "      <td>0</td>\n",
       "      <td>0</td>\n",
       "      <td>0</td>\n",
       "      <td>0</td>\n",
       "      <td>0</td>\n",
       "      <td>6.211</td>\n",
       "    </tr>\n",
       "    <tr>\n",
       "      <th>299</th>\n",
       "      <td>0</td>\n",
       "      <td>0</td>\n",
       "      <td>1</td>\n",
       "      <td>0.511964</td>\n",
       "      <td>0.334206</td>\n",
       "      <td>0</td>\n",
       "      <td>0</td>\n",
       "      <td>1</td>\n",
       "      <td>0</td>\n",
       "      <td>0</td>\n",
       "      <td>0</td>\n",
       "      <td>0</td>\n",
       "      <td>0</td>\n",
       "      <td>1</td>\n",
       "      <td>2.659</td>\n",
       "    </tr>\n",
       "    <tr>\n",
       "      <th>221</th>\n",
       "      <td>0</td>\n",
       "      <td>0</td>\n",
       "      <td>1</td>\n",
       "      <td>0.881625</td>\n",
       "      <td>0.339570</td>\n",
       "      <td>0</td>\n",
       "      <td>0</td>\n",
       "      <td>0</td>\n",
       "      <td>0</td>\n",
       "      <td>0</td>\n",
       "      <td>0</td>\n",
       "      <td>0</td>\n",
       "      <td>0</td>\n",
       "      <td>0</td>\n",
       "      <td>4.780</td>\n",
       "    </tr>\n",
       "    <tr>\n",
       "      <th>152</th>\n",
       "      <td>0</td>\n",
       "      <td>0</td>\n",
       "      <td>1</td>\n",
       "      <td>0.817246</td>\n",
       "      <td>0.537414</td>\n",
       "      <td>0</td>\n",
       "      <td>1</td>\n",
       "      <td>0</td>\n",
       "      <td>0</td>\n",
       "      <td>0</td>\n",
       "      <td>0</td>\n",
       "      <td>0</td>\n",
       "      <td>0</td>\n",
       "      <td>0</td>\n",
       "      <td>4.968</td>\n",
       "    </tr>\n",
       "  </tbody>\n",
       "</table>\n",
       "</div>"
      ],
      "text/plain": [
       "     yr  holiday  workingday      temp  windspeed  season_spring  \\\n",
       "184   0        1           0  0.831783   0.084219              0   \n",
       "535   1        0           1  0.901354   0.153728              0   \n",
       "299   0        0           1  0.511964   0.334206              0   \n",
       "221   0        0           1  0.881625   0.339570              0   \n",
       "152   0        0           1  0.817246   0.537414              0   \n",
       "\n",
       "     season_summer  season_winter  mnth_jan  mnth_jul  mnth_sep  weekday_sat  \\\n",
       "184              0              0         0         1         0            0   \n",
       "535              1              0         0         0         0            0   \n",
       "299              0              1         0         0         0            0   \n",
       "221              0              0         0         0         0            0   \n",
       "152              1              0         0         0         0            0   \n",
       "\n",
       "     weathersit_light_snowandrain  weathersit_mist_cloudy    cnt  \n",
       "184                             0                       1  6.043  \n",
       "535                             0                       0  6.211  \n",
       "299                             0                       1  2.659  \n",
       "221                             0                       0  4.780  \n",
       "152                             0                       0  4.968  "
      ]
     },
     "execution_count": 57,
     "metadata": {},
     "output_type": "execute_result"
    }
   ],
   "source": [
    "# Select variables for model\n",
    "df_test = df_test[final_vars]\n",
    "df_test.head()"
   ]
  },
  {
   "cell_type": "markdown",
   "id": "4e7eebb4",
   "metadata": {},
   "source": [
    "### Predict with final model"
   ]
  },
  {
   "cell_type": "code",
   "execution_count": 58,
   "id": "4ba0f1c4",
   "metadata": {},
   "outputs": [],
   "source": [
    "# Divide in y_test and X_test\n",
    "y_test = df_test.pop('cnt')\n",
    "X_test = df_test"
   ]
  },
  {
   "cell_type": "code",
   "execution_count": 59,
   "id": "89c1f4cc",
   "metadata": {},
   "outputs": [],
   "source": [
    "# Adding a constant variable \n",
    "X_test_sm = sm.add_constant(X_test)"
   ]
  },
  {
   "cell_type": "code",
   "execution_count": 60,
   "id": "2bd91d07",
   "metadata": {},
   "outputs": [],
   "source": [
    "# Making predictions\n",
    "y_pred = lm_final.predict(X_test_sm)"
   ]
  },
  {
   "cell_type": "markdown",
   "id": "6f763b4f",
   "metadata": {},
   "source": [
    "## Model prediction evaluation"
   ]
  },
  {
   "cell_type": "markdown",
   "id": "af4ec2a5",
   "metadata": {},
   "source": [
    "### R-squared and Adj. R-squared"
   ]
  },
  {
   "cell_type": "code",
   "execution_count": 61,
   "id": "b36ce682",
   "metadata": {},
   "outputs": [
    {
     "name": "stdout",
     "output_type": "stream",
     "text": [
      "R-Squared:  0.805\n",
      "Adj. R-Squared:  0.79\n"
     ]
    }
   ],
   "source": [
    "# Get R-squared using SKLearn r2_score function\n",
    "test_r2 = r2_score(y_test, y_pred)\n",
    "\n",
    "# Get Adjusted R-squared (using definition formula)\n",
    "# Adj. R-Squared for test dataset\n",
    "sample_size = len(X_test)\n",
    "vars_count = len(final_vars)\n",
    "test_adj_r2 = round((1-((1-test_r2)*(sample_size-1)/(sample_size-vars_count-1))),3)\n",
    "\n",
    "print('R-Squared: ', round(test_r2,3))\n",
    "print('Adj. R-Squared: ', round(test_adj_r2,3))"
   ]
  },
  {
   "cell_type": "markdown",
   "id": "c8db16a5",
   "metadata": {},
   "source": [
    "**Most relevant summary statistics**:\n",
    "- $R^{2}$ = 0.805\n",
    "- Adjusted $R^{2}$ = 0.790\n",
    "\n",
    "In prediction the $R^{2}$ and the Adjusted $R^{2}$ **values decreased but no more than 0.05**, and both values are close to each other, so we can say **the model is significant**."
   ]
  },
  {
   "cell_type": "markdown",
   "id": "dfff38dd",
   "metadata": {},
   "source": [
    "### Residual analysis on the test data"
   ]
  },
  {
   "cell_type": "code",
   "execution_count": 62,
   "id": "cd6af2e8",
   "metadata": {},
   "outputs": [
    {
     "data": {
      "image/png": "[encoded data removed]",
      "text/plain": [
       "<Figure size 432x288 with 1 Axes>"
      ]
     },
     "metadata": {
      "needs_background": "light"
     },
     "output_type": "display_data"
    }
   ],
   "source": [
    "# Plot the histogram of the error terms\n",
    "fig = plt.figure()\n",
    "residuals = y_test - y_pred\n",
    "sns.distplot(residuals)\n",
    "fig.suptitle('Error Terms distribution', fontsize = 14)\n",
    "plt.xlabel('Errors', fontsize = 10)\n",
    "plt.show()"
   ]
  },
  {
   "cell_type": "markdown",
   "id": "f7b0d1e7",
   "metadata": {},
   "source": [
    "We can see that the **test set errors have a normal distribution**, with median and mean centered at value zero. \n",
    "\n",
    "And from below graph we can see the **errors** do not follow any pattern, they **are independent of each other**.\n",
    "\n",
    "With these information **we can rely in the significance of the model variables coefficients**."
   ]
  },
  {
   "cell_type": "code",
   "execution_count": 63,
   "id": "5b00718e",
   "metadata": {},
   "outputs": [
    {
     "data": {
      "image/png": "[encoded data removed]",
      "text/plain": [
       "<Figure size 576x288 with 1 Axes>"
      ]
     },
     "metadata": {
      "needs_background": "light"
     },
     "output_type": "display_data"
    }
   ],
   "source": [
    "# Plot error terms\n",
    "fig = plt.figure(figsize=(8,4))\n",
    "plt.scatter(y_test,residuals)\n",
    "fig.suptitle('Error Terms', fontsize=14)\n",
    "plt.xlabel('Y_train_pred', fontsize=10)\n",
    "plt.ylabel('Residual', fontsize=10) \n",
    "plt.show()"
   ]
  },
  {
   "cell_type": "markdown",
   "id": "91ff0c16",
   "metadata": {},
   "source": [
    "### Actual versus predicted values"
   ]
  },
  {
   "cell_type": "markdown",
   "id": "fd6bfdf7",
   "metadata": {},
   "source": [
    "From below plot we can see that the **final model fit isn't by chance**, and has a descent predictive power."
   ]
  },
  {
   "cell_type": "code",
   "execution_count": 64,
   "id": "b4fa7e52",
   "metadata": {},
   "outputs": [
    {
     "data": {
      "image/png": "[encoded data removed]",
      "text/plain": [
       "<Figure size 432x288 with 1 Axes>"
      ]
     },
     "metadata": {
      "needs_background": "light"
     },
     "output_type": "display_data"
    }
   ],
   "source": [
    "# Plotting y_test and y_pred to understand the spread.\n",
    "fig = plt.figure()\n",
    "plt.scatter(y_test,y_pred)\n",
    "fig.suptitle('y_test vs y_pred', fontsize=14)\n",
    "plt.xlabel('y_test', fontsize=10)\n",
    "plt.ylabel('y_pred', fontsize=10)\n",
    "plt.show()"
   ]
  },
  {
   "cell_type": "markdown",
   "id": "bfa3cbc9",
   "metadata": {},
   "source": [
    "## Model summary"
   ]
  },
  {
   "cell_type": "markdown",
   "id": "ecc3b32c",
   "metadata": {},
   "source": [
    "Final model has following statistics:\n",
    "- $R^{2}$ = 0.805\n",
    "- Adjusted $R^{2}$ = 0.790\n",
    "\n",
    "Final variables and their coefficients are:"
   ]
  },
  {
   "cell_type": "code",
   "execution_count": 65,
   "id": "6bb8a7de",
   "metadata": {},
   "outputs": [
    {
     "data": {
      "text/html": [
       "<div>\n",
       "<style scoped>\n",
       "    .dataframe tbody tr th:only-of-type {\n",
       "        vertical-align: middle;\n",
       "    }\n",
       "\n",
       "    .dataframe tbody tr th {\n",
       "        vertical-align: top;\n",
       "    }\n",
       "\n",
       "    .dataframe thead th {\n",
       "        text-align: right;\n",
       "    }\n",
       "</style>\n",
       "<table border=\"1\" class=\"dataframe\">\n",
       "  <thead>\n",
       "    <tr style=\"text-align: right;\">\n",
       "      <th></th>\n",
       "      <th>Coefficient</th>\n",
       "    </tr>\n",
       "  </thead>\n",
       "  <tbody>\n",
       "    <tr>\n",
       "      <th>temp</th>\n",
       "      <td>4.110</td>\n",
       "    </tr>\n",
       "    <tr>\n",
       "      <th>yr</th>\n",
       "      <td>2.037</td>\n",
       "    </tr>\n",
       "    <tr>\n",
       "      <th>const</th>\n",
       "      <td>1.531</td>\n",
       "    </tr>\n",
       "    <tr>\n",
       "      <th>season_winter</th>\n",
       "      <td>0.693</td>\n",
       "    </tr>\n",
       "    <tr>\n",
       "      <th>mnth_sep</th>\n",
       "      <td>0.655</td>\n",
       "    </tr>\n",
       "    <tr>\n",
       "      <th>weekday_sat</th>\n",
       "      <td>0.508</td>\n",
       "    </tr>\n",
       "    <tr>\n",
       "      <th>workingday</th>\n",
       "      <td>0.404</td>\n",
       "    </tr>\n",
       "    <tr>\n",
       "      <th>season_summer</th>\n",
       "      <td>0.377</td>\n",
       "    </tr>\n",
       "    <tr>\n",
       "      <th>mnth_jan</th>\n",
       "      <td>-0.339</td>\n",
       "    </tr>\n",
       "    <tr>\n",
       "      <th>mnth_jul</th>\n",
       "      <td>-0.419</td>\n",
       "    </tr>\n",
       "    <tr>\n",
       "      <th>holiday</th>\n",
       "      <td>-0.488</td>\n",
       "    </tr>\n",
       "    <tr>\n",
       "      <th>season_spring</th>\n",
       "      <td>-0.519</td>\n",
       "    </tr>\n",
       "    <tr>\n",
       "      <th>weathersit_mist_cloudy</th>\n",
       "      <td>-0.718</td>\n",
       "    </tr>\n",
       "    <tr>\n",
       "      <th>windspeed</th>\n",
       "      <td>-1.358</td>\n",
       "    </tr>\n",
       "    <tr>\n",
       "      <th>weathersit_light_snowandrain</th>\n",
       "      <td>-2.536</td>\n",
       "    </tr>\n",
       "  </tbody>\n",
       "</table>\n",
       "</div>"
      ],
      "text/plain": [
       "                              Coefficient\n",
       "temp                                4.110\n",
       "yr                                  2.037\n",
       "const                               1.531\n",
       "season_winter                       0.693\n",
       "mnth_sep                            0.655\n",
       "weekday_sat                         0.508\n",
       "workingday                          0.404\n",
       "season_summer                       0.377\n",
       "mnth_jan                           -0.339\n",
       "mnth_jul                           -0.419\n",
       "holiday                            -0.488\n",
       "season_spring                      -0.519\n",
       "weathersit_mist_cloudy             -0.718\n",
       "windspeed                          -1.358\n",
       "weathersit_light_snowandrain       -2.536"
      ]
     },
     "execution_count": 65,
     "metadata": {},
     "output_type": "execute_result"
    }
   ],
   "source": [
    "round(df_final_vars.sort_values('Coefficient', ascending=False),3)"
   ]
  },
  {
   "cell_type": "markdown",
   "id": "d5458f66",
   "metadata": {},
   "source": [
    "The **equation of our best fitted line** is:\n",
    "\n",
    "$ cnt = 1.531 + (4.110  \\times  temperature) + (2.037  \\times  yr) + (0.693  \\times  seasonWinter) + (0.655  \\times  mnthSep) + (0.508  \\times  weekdaySat) + (0.404  \\times  workingday) + (0.377  \\times  seasonSummer) - (0.339 \\times  mnthJan) - (0.419 \\times  mnthJul) - (0.488 \\times  holiday) - (0.519 \\times  seasonSpring) - (0.718 \\times  weathersitMistCloudy) - (1.358 \\times  windspeed) - (2.536  \\times  weathersitLightSnowandrain) $\n"
   ]
  },
  {
   "cell_type": "markdown",
   "id": "d19620c1",
   "metadata": {},
   "source": [
    "### Explanation of selected variables\n",
    "Looking at the best fitted line equation does not give clarity of what is happening with the variables, so we'll explain in words. Remember that *our target variable has been divided by 1000* to simplify analysis.\n",
    "\n",
    "**What does the sign of coefficient mean for a variable?** \n",
    "- A *positive coefficient* indicates that if the independent variable increases, the value of the dependent variable will increase too.\n",
    "- A *negative coefficient* indicates that if the independent variable increases, the value of the dependent variable will decrease.\n",
    "\n",
    "Note that the *correct interpretation of each coefficient* is: \"change by unit in dependent variable, when all other variables are held constant\".\n",
    "When we talk about bikes rental increasing or decreasing when an independent variable increases or decresases, we assume all other variables are held constant.\n",
    "\n",
    "**When all variables are zero**:\n",
    "\n",
    "This would be a worst case scenario, but still the constant value for our equation is positive. This means that **there will be bike rentals no matter the time** (~1.531k), which is great to have!\n",
    "\n",
    "**Positive related columns to *cnt*** are the following:\n",
    "- *temp*. Bike rentals will be 4.11 greater when there are high temperatures.\n",
    "- *yr*. Bike rentals will be 2.037 higher every year.\n",
    "    - Bike-sharing systems are gaining popularity across time.\n",
    "- *season_winter*. Bike rentals will be 0.693 higher when we are in Winter.\n",
    "    - Reasons for bike rental being popular in winter might be due to different population reasons, it will depend more on the location or other transportation information (data we do not have in this study).\n",
    "- *mnth_sep*. Bike rentals will be 0.655 higher when we are in September.\n",
    "    - September is considered part of Summer, and from all Summer months, it is the one with less rain.\n",
    "- *weekday_sat*. Bike rentals will be 0.508 higher when the day is Saturday.\n",
    "    - Even if distribution of rentals is similar in all week days, Saturday was found to be significant, it is during weekend.\n",
    "- *workingday*. Bike rentals will be 0.404 higher when we are in a working day.\n",
    "    - We can say that people uses bikes during workingdays, might be related to transportation for work being easier with bikes to avoid traffic jams.\n",
    "- *season_summer*. Bike rentals will be 0.377 higher when we are in Summer.\n",
    "    - Summer has high temperatures, but why is it not more significant? Could be due to most part of summer having rain.\n",
    "\n",
    "We can see that there is a considerable difference between the coefficients of *temp* and *yr* with the rest of the variables, so these two are the ones contributing the more to bikes rental amount.\n",
    "\n",
    "**Negative related columns to *cnt*** are the following:\n",
    "- *mnth_jan*. Bike rentals will decrease 0.339 times when we are in January.\n",
    "    - January is the Winter month with most rainy and snow days.\n",
    "- *mnth_jul*. Bike rentals will decrease 0.419 times when we are in July.\n",
    "    - But July is part of Summer, which is positively related, why is it negative? July is the month with more rainy days.\n",
    "- *holiday*. Bike rentals will decrease 0.488 times when we are in a holiday.\n",
    "    - In order to confirm that people do not use bikes in holidays we'd need other transportation information, and maybe if other transports are not used, people simply would tend to stay at home those days.\n",
    "- *season_spring*. Bike rentals will decrease 0.519 times when we are in Spring.\n",
    "    - Spring temperatures are definitely higher than Winter, why could it not have a positive relation with bike rentals? Spring has a high percentage of windy days.\n",
    "- *weathersit_mist_cloudy*. Bike rentals will decrease 0.718 times when we have Mist + Cloudy, Mist + Broken clouds, Mist + Few clouds, Mist.\n",
    "- *windspeed*. Bike rentals will decrease 1.358 times when we have high windspeed.\n",
    "- *weathersit_light_snowandrain*. Bike rentals will decrease 2.536 times when we have Light Snow, Light Rain + Thunderstorm + Scattered clouds, Light Rain + Scattered clouds.\n",
    "    - The 3 variables above are describing a bad weather to go biking, as the windspeed is high and there might be heavy rain or snow.\n",
    "    \n",
    "We can see that there is a considerable difference between the coefficients of *weathersit_light_snowandrain* and *windspeed* with the rest of the variables, so these two are the ones contributing the more to decreasing bikes rental amount."
   ]
  },
  {
   "cell_type": "markdown",
   "id": "39400fe0",
   "metadata": {},
   "source": [
    "## Conclusions\n",
    "These are the 3 variables that contribute the most to changes in bikes rental:\n",
    "- *temp* (positive)\n",
    "- *yr* (positive)\n",
    "- *weathersit_light_snowandrain* (negative)\n",
    "\n",
    "When the business team is **planning the bikes supply**, they need to take in account all variables found to be significant but give most consideration the 3 variables indicated above.\n",
    "\n",
    "The **best time to increase the supply is during the Summer, when there are high temperatures but not high windspeed or rain**.\n",
    "\n",
    "It is also great to know that they will have bike rentals no matter the time!"
   ]
  }
 ],
 "metadata": {
  "kernelspec": {
   "display_name": "Python 3 (ipykernel)",
   "language": "python",
   "name": "python3"
  },
  "language_info": {
   "codemirror_mode": {
    "name": "ipython",
    "version": 3
   },
   "file_extension": ".py",
   "mimetype": "text/x-python",
   "name": "python",
   "nbconvert_exporter": "python",
   "pygments_lexer": "ipython3",
   "version": "3.9.7"
  }
 },
 "nbformat": 4,
 "nbformat_minor": 5
}
